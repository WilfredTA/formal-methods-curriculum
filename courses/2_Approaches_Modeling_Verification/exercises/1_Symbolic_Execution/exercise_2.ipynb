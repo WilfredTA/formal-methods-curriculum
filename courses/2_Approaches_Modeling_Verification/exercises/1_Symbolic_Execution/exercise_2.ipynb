{
  "nbformat": 4,
  "nbformat_minor": 0,
  "metadata": {
    "colab": {
      "name": "Course 2. Symbolic Execution — Exercise 2.ipynb",
      "provenance": [],
      "collapsed_sections": []
    },
    "kernelspec": {
      "name": "python3",
      "display_name": "Python 3"
    },
    "language_info": {
      "name": "python"
    }
  },
  "cells": [
    {
      "cell_type": "markdown",
      "source": [
        "## Course 2. Symbolic Execution.\n",
        "### **Exercise 2.**  Developing Symbolic Execution Tools for EVM Using Z3\n",
        "\n",
        "The goal of this exercise is to familiarize yourself with the details of symbolic execution techniques. In contrast to [Exercise 1](https://colab.research.google.com/drive/17oyX0mL9TtpjPUQEYO4h_GwyW1A8V8r6?usp=sharing) where we have utilized the API of an existing symbolic execution tool, this exercise is focused on building our own EVM-level symbolic execution engine (and executable formal semantics for our EVM-like language) using Z3 as a constraint solver.\n",
        " <!-- (more on that later)  -->\n",
        "This Jupyter notebook uses Python 3.7, and we use Python bindings of Z3 throughout the exercise.\n",
        "\n",
        "*The exercise and the accompanying tutorial are heavily based on (1) [Z3 Tutorial](https://colab.research.google.com/github/philzook58/z3_tutorial/blob/master/Z3%20Tutorial.ipynb) by Philip Zucker and the (2) [EVM Symbolic Execution tutorial](https://github.com/williamberman/evm-symbolic-execution/blob/master/EVM%20Symbolic%20Execution.ipynb) by William Berman.*\n",
        "\n",
        "#### **Installation**\n",
        "\n",
        "Z3 can be installed using `pip`."
      ],
      "metadata": {
        "id": "aNcNRI5b2umD"
      }
    },
    {
      "cell_type": "code",
      "source": [
        "!pip install z3-solver\n",
        "from z3 import *"
      ],
      "metadata": {
        "colab": {
          "base_uri": "https://localhost:8080/"
        },
        "id": "kcgWhPX3sjge",
        "outputId": "088292df-cfe1-42ef-f1a7-fedc2dd3ea6c"
      },
      "execution_count": null,
      "outputs": [
        {
          "output_type": "stream",
          "name": "stdout",
          "text": [
            "Looking in indexes: https://pypi.org/simple, https://us-python.pkg.dev/colab-wheels/public/simple/\n",
            "Collecting z3-solver\n",
            "  Downloading z3_solver-4.8.17.0-py2.py3-none-manylinux1_x86_64.whl (54.5 MB)\n",
            "\u001b[K     |████████████████████████████████| 54.5 MB 89 kB/s \n",
            "\u001b[?25hInstalling collected packages: z3-solver\n",
            "Successfully installed z3-solver-4.8.17.0\n"
          ]
        }
      ]
    },
    {
      "cell_type": "markdown",
      "source": [
        "## Z3 Basics & Exercise Overview\n",
        "\n",
        "According to its [website](https://github.com/Z3Prover/z3), Z3 is a theorem prover from Microsoft Research, which can be used to check the satisfiability of logical formulas.\n",
        "<!-- over one or more theories -->\n",
        "In the context of symbolic execution, it means that Z3 can be used to check path reachability (as satisfiability of constraints collected along the exploration of this path) or some properties over \\[smart contract\\] execution.\n",
        "\n",
        "Z3 has official bindings for C, C++, Python, .NET, OCaml, Java. Bindings in other programming languages may also be available: for example, there are at least two Z3 bindings for Rust: high-level [z3](https://docs.rs/z3/latest/z3/) and low-level [z3-sys](https://crates.io/crates/z3-sys). Z3 also has a command line interface that accepts a logical formula input format named [SMT-LIB](https://smtlib.github.io/jSMTLIB/SMTLIBTutorial.pdf).\n",
        "\n",
        "In this tutorial and exercise, we will use Z3's Python API, which we installed using `pip install z3-solver` in the previous cell.\n",
        "\n",
        "Inspired by William Berman's [tutorial](https://github.com/williamberman/evm-symbolic-execution/blob/master/EVM%20Symbolic%20Execution.ipynb), in this exercise, we will gradually develop a simple symbolic execution tool for a small EVM-like language. We will test it on the `Exchange` smart contract we are using as a running example in this module. As we know, a symbolic execution engine needs to maintain a set of *path constraints* and a *symbolic state*. Let's see how we can model both of them using Z3 and its internal representation. The source code of the running example is shown below for reference:\n",
        "\n",
        "```javascript\n",
        "contract Exchange {   \n",
        "    function deposit(uint _in, uint _out, uint _approved) public {\n",
        "        uint balance_in = 100; uint balance_out = 100;\n",
        "\n",
        "        if (_in >= _out && _out <= balance_out) {\n",
        "            if (_approved >= _in) {\n",
        "                balance_in += _in;\n",
        "                _approved -= _in;\n",
        "            }\n",
        "            \n",
        "            balance_out -= _out;\n",
        "        }\n",
        "\n",
        "        assert(balance_in + balance_out >= 200);\n",
        "   }\n",
        "}\n",
        "```\n",
        " "
      ],
      "metadata": {
        "id": "8yLvRkiw4eXJ"
      }
    },
    {
      "cell_type": "markdown",
      "source": [
        "#### Z3 Sorts\n",
        "\n",
        "Z3 offers several types, called *sorts*, to declare variables—including those with symbolic values. The variables can also be used in the constraints.\n",
        "\n",
        "In our running example, we only use `uint` variables which, in EVM, are unsigned integers of 256 bits in size. Z3 has a sort `Int` we will use in the first half of the exercise to model these variables. However, integers in Z3 are *signed* and *unbounded*. We will later see how EVM semantics of `uint` can be modeled more accurately using the bitvector (`BitVec`) sort of Z3.\n",
        "\n",
        "Variables of `Int` sort can be declared in Z3 Python API as follows:\n",
        "`x = Int('x')`. This command creates a Z3 integer variable called `x`.\n",
        "To declare an `Int` numeral constant with a certain value, use the command `IntVal` and specify the value in brackets:\n",
        "`y = IntVal('10')`.\n",
        "\n",
        "**Task 1:** declare three integer variables in Z3 called `s_in`, `s_out`, and `s_appr`. These variables correspond to input parameters of the `deposit` function in our running example.\n",
        "Declare two constants `balance_in` and `balance_out` representing initial values (`100`) of same-named variables in `deposit`.\n",
        "You can also check the sort of the variable `s_in` by calling `s_in.sort()`."
      ],
      "metadata": {
        "id": "dxdr4McHwNy5"
      }
    },
    {
      "cell_type": "code",
      "source": [
        "s_in = # (1) create a Z3 integer called, e.g., 'in';\n",
        "# repeat that for the next two variables\n",
        "s_out = \n",
        "s_appr =\n",
        "\n",
        "balance_in = # (2) create a Z3 integer constant holding the initial value\n",
        "# of 'balance_in' (100); repeat that for 'balance_out'\n",
        "balance_out = \n",
        "\n",
        "# (3) print the sort of 'balance_out'\n",
        "print(...)"
      ],
      "metadata": {
        "id": "0_xHJkG55uDa"
      },
      "execution_count": null,
      "outputs": []
    },
    {
      "cell_type": "code",
      "source": [
        "#@title Task 1 Solution\n",
        "\n",
        "s_in = Int('in')\n",
        "s_out = Int('out')\n",
        "s_appr = Int('appr')\n",
        "\n",
        "balance_in = IntVal('100')\n",
        "balance_out = IntVal('100')\n",
        "\n",
        "print(balance_out.sort())"
      ],
      "metadata": {
        "id": "nBeKT-xp5ubg",
        "cellView": "form"
      },
      "execution_count": null,
      "outputs": []
    },
    {
      "cell_type": "markdown",
      "source": [
        "### Z3 Expressions\n",
        "\n",
        "Now that we have variables and constant values, we can use them to build expressions and constraints. In Python API, many Z3 operators (`=`, `>`, `>=`, `<`, `<=`, `==`, `!=`, `+`, `-`, etc.) are intuitive since they overload Python operators.\n",
        "\n",
        "Ultimately, we want our symbolic execution tool (and Z3) to identify a vulnerable path in the execution of our smart contract. From [manual analysis](https://github.com/WilfredTA/formal-methods-curriculum/blob/master/courses/2_Approaches_Modeling_Verification/content/1_Symbolic_Execution/symbolic_execution.md) and [Exercise 1](https://colab.research.google.com/drive/17oyX0mL9TtpjPUQEYO4h_GwyW1A8V8r6), we already now which path leads to the violation: it takes a *true* branch at line 4 (`if (_in >= _out && _out <= balance_out)`) and a *false* branch at line 5 (`if (_approved >= _in)`, i.e., `_approved < _in` holds).\n",
        "\n",
        "In our example, the path is considered vulnerable if the property written as as assertion (`assert(balance_in + balance_out >= 200)`) can be violated. In other words, we need Z3 to check whether the opposite (`balance_in + balance_out < 200`) is satisfiable—if it is, there is a property violation."
      ],
      "metadata": {
        "id": "8s8nqwmNDNUf"
      }
    },
    {
      "cell_type": "markdown",
      "source": [
        "**Task 2**: Using the variables declared in Task 1, let's manually encode this vulnerable path in Z3 as a set of constraints (corresponding to the execution of this path) AND a vulnerable condition (`balance_in + balance_out < 200`). Then, let's use Z3 to find concrete values of `s_in`, `s_out`, `s_appr` that lead to the assertion violation.\n",
        "\n",
        "Note that our Z3 constant `balance_out` stores the initial value of this variable (`100`). However, in a vulnerable path, the value of `balance_out` is updated in line 11 (`balance_out -= _out`). \n",
        "Therefore, `balance_out` should be updated (`balance_out -= s_out`) prior to adding the constraint corresponding to the assertion.\n",
        "\n",
        "To complete Task 2, create an instance of a Z3 solver as `s = Solver()` and add each constraint using the `s.add(...)` command. You can add constraints (`_in >= _out`, `_out <= balance_out`, `_approved < _in`, `balance_in + balance_out - s_out < 200`) one by one.\n",
        "\n",
        "Run `s.check()` to determine constraints satisfiability and `s.model()` to get concrete assignments for symbolic variables. Note that the *model* (i.e., concrete assignments) can only be obtained for a set of constraints that is satisfiable."
      ],
      "metadata": {
        "id": "W8GKF0LQ833N"
      }
    },
    {
      "cell_type": "code",
      "source": [
        "s = Solver()\n",
        "s.add(...) # (1) Substitute '...' with a constraint satisfied by a vulnerable path \n",
        "# (2) Add other path constraints\n",
        "# (3) Update 'balance_out'\n",
        "# (4) Add the negation of the property\n",
        "\n",
        "# Check satisfiability of the resulting set of constraints\n",
        "print(s.check())\n",
        "# Get the model\n",
        "print(s.model())"
      ],
      "metadata": {
        "id": "XsNrgOCCDWJb"
      },
      "execution_count": null,
      "outputs": []
    },
    {
      "cell_type": "code",
      "source": [
        "#@title Task 2 Solution\n",
        "\n",
        "s = Solver()\n",
        "s.add(s_in >= s_out)\n",
        "s.add(s_out <= balance_out)\n",
        "s.add(s_appr < s_in)\n",
        "\n",
        "balance_out -= s_out\n",
        "\n",
        "# That's the negation of the property\n",
        "s.add(balance_in + balance_out - s_out < 200)\n",
        "\n",
        "print(s.check())\n",
        "print(s.model())"
      ],
      "metadata": {
        "id": "o96e5-cp7UwB",
        "cellView": "form"
      },
      "execution_count": null,
      "outputs": []
    },
    {
      "cell_type": "markdown",
      "source": [
        "As you can see, the \"vulnerable\" concrete assignments found by this Z3 script are similar to those found by Manticore in Exercise 1.\n",
        "<!-- And it also uses Z3 by default -->\n",
        "\n",
        "Z3 also supports Boolean operators, such as `And`, `Or`, `Not`, etc., which also appear in the source code we aim to analyze.\n",
        "\n",
        "**Task 3**: use Boolean operators to build constraints that more closely resemble the implementation, i.e., `_in >= _out` **AND** `_out <= balance_out`, `NOT (_approved >= _in)`, `NOT (balance_in + balance_out >= 200)`. Use `And(expr1, expr2)` and `Not(expr)` commands for this."
      ],
      "metadata": {
        "id": "ZDfHGkYfEzYQ"
      }
    },
    {
      "cell_type": "code",
      "source": [
        "s = Solver()\n",
        "s.add(...) # (1) Substitute '...' with a constraint satisfied by a vulnerable path;\n",
        "# Add another constraints \n",
        "\n",
        "balance_out -= s_out\n",
        "\n",
        "s.add(...) # (2) Add the negation of the property\n",
        "\n",
        "print(s.check())\n",
        "print(s.model())"
      ],
      "metadata": {
        "id": "zAGJzVpPE2wm"
      },
      "execution_count": null,
      "outputs": []
    },
    {
      "cell_type": "code",
      "source": [
        "#@title Task 3 Solution\n",
        "\n",
        "s = Solver()\n",
        "s.add(And(s_in >= s_out, s_out <= balance_out))\n",
        "s.add(Not(s_in >= s_appr))\n",
        "\n",
        "balance_out -= s_out\n",
        "\n",
        "s.add(Not(balance_in + balance_out >= 200))\n",
        "\n",
        "print(s.check())\n",
        "print(s.model())\n"
      ],
      "metadata": {
        "id": "UjGRKAEUTLQ3",
        "cellView": "form"
      },
      "execution_count": null,
      "outputs": []
    },
    {
      "cell_type": "markdown",
      "source": [
        "In addititon to integers we have considered, Z3 has more sorts and operators, such as `Bool`, `Real`, `BitVec` (characterized by size such as 8, 16, ..., 256 bits), etc.\n",
        "Examples of some variables of these sorts are shown below.\n",
        "\n",
        "Arrays in Z3 are represented using the `Array` sort, which is based on a *basic theory of arrays*. In Z3, the command `Select(A, i)` returns the value stored at index `i` of the array `a`. `Store(A, i, v)` returns a new array identical to `A`, but at index `i` it contains the value `v`. In Python API, `Select(A, i)` corresponds to `A[i]`.\n",
        "\n",
        "In Z3, you can also simplify an expression using a `simplify(...)` command.\n",
        "\n",
        "<!-- Note, however, that arrays in Z3 are used to model unbounded or very large arrays. Arrays should not be used to model small finite collections of values. It is usually much more efficient to create different variables using list comprehensions.\n",
        "More efficient solution than using an array:\n",
        "X = IntVector('x', 3)\n",
        "print X[0] + X[1] + X[2] >= 0\n",
        "print Sum(X) >= 0\n",
        " -->"
      ],
      "metadata": {
        "id": "qdyD4nWyHSQM"
      }
    },
    {
      "cell_type": "code",
      "source": [
        "x = Bool(\"x\")\n",
        "y = BoolVal(True)\n",
        "print(y)\n",
        "\n",
        "r = Real(\"r\")\n",
        "v = BitVec(\"v\", 32) # 32-bit bitvector\n",
        "\n",
        "a = Array(\"A\", IntSort(), BoolSort()) # array A of Booleans indexed by Int\n",
        "x = Int('x')\n",
        "\n",
        "print(a[x])\n",
        "print(Select(a, x))\n",
        "# Storing 'True' at position 'x' in array 'a'\n",
        "print(Store(a, x, True))\n",
        "# Getting the value at position 'x' in array 'a'\n",
        "print(Select(Store(a, x, True), x))\n",
        "print(simplify(Select(Store(a, x, True), x)))"
      ],
      "metadata": {
        "id": "XOfd4fkjHN0V",
        "colab": {
          "base_uri": "https://localhost:8080/"
        },
        "outputId": "8864b2a7-b129-4b77-adad-25d1c159cc18"
      },
      "execution_count": null,
      "outputs": [
        {
          "output_type": "stream",
          "name": "stdout",
          "text": [
            "True\n",
            "A[x]\n",
            "A[x]\n",
            "Store(A, x, True)\n",
            "Store(A, x, True)[x]\n",
            "True\n"
          ]
        }
      ]
    },
    {
      "cell_type": "markdown",
      "source": [
        "### Additional Exercises\n",
        "\n",
        "More exercises on using Z3 to prove theories and solve mathematical problems are available in Philip Zucker's [Z3 Tutorial](https://colab.research.google.com/github/philzook58/z3_tutorial/blob/master/Z3%20Tutorial.ipynb)."
      ],
      "metadata": {
        "id": "PvY8rpQSbRD9"
      }
    },
    {
      "cell_type": "markdown",
      "source": [
        "### EVM-like Symbolic Stack Machine Implementation\n",
        "\n",
        "In the second part of the exercise we'll be implementing a symbolic *stack machine* similar to EVM (Ethereum Virtual Machine). While more details on stack and EVM can be found online, *stack* is a data structure that serves as a collection of elements, with two main operations: *push*, which adds an element to the \\[top of the\\] collection, and *pop*, which removes the most recently added element that was not yet removed. The order in which elements come off a stack gives rise to its alternative name, LIFO *(last in, first out)*. \\[Source: [Wikipedia](https://en.wikipedia.org/wiki/Stack_(abstract_data_type)\\].\n",
        "\n",
        "The EVM executes as a stack machine. During execution, the EVM maintains a transient memory, which does not persist between transactions—we will use it to store local variables from our running example. The bytecode of (compiled) smart contracts executes as a number of EVM opcodes, which perform standard operations like `AND` (`&&`), `ADD` (`+`), `MUL` (`*`), etc.\n",
        "\\[Source: [Ethereum.org](https://ethereum.org/en/developers/docs/evm/)\\].\n",
        "To symbolically execute EVM bytecode of a smart contract, we need to develop operational semantics for our language, in other words—establish the relation between our language elements and its representation in Z3.\n",
        "Our symbolic VM should be able to process a sequence of opcodes corresponding to a smart contract similar to how EVM would do that; however, it should also accept symbolic values as input and perform satisfiability checking for the execution paths of a smart contract.\n",
        "\n",
        "In this exercise, we intentionally keep the number of opcodes to a minimum, however, we encourage you to experiment with a larger subset of EVM (or even perform symbolic execution directly on source code). The list of opcodes and an interactive playground can be found on the [evm.codes](https://www.evm.codes/) website.\n",
        "\n",
        "The following code implements a small machine that can perform simple arithmetic operations, such as *adding* (`ADD`) and *subtraction* (`SUB`) between two integers that have to be placed in the stack (`PUSH`) before the operator.\n",
        "In our stack machine, we implement a *program counter* (`pc`) that points to the address of the next instruction to be executed.\n",
        "This code uses `dataclasses` Python module for the implementation of opcode classes. The `run` function returns the element at the top of the stack after processing the `code` (a sequence of opcodes) that is given."
      ],
      "metadata": {
        "id": "Z07xJZHwfzbq"
      }
    },
    {
      "cell_type": "code",
      "source": [
        "from dataclasses import dataclass\n",
        "\n",
        "@dataclass\n",
        "class ADD:\n",
        "    pass\n",
        "\n",
        "@dataclass\n",
        "class SUB:\n",
        "    pass\n",
        "\n",
        "@dataclass\n",
        "class PUSH:\n",
        "    n: int\n",
        "\n",
        "class StackArith:\n",
        "    def __init__(self, code):\n",
        "        self.pc = 0\n",
        "        self.code = code\n",
        "        self.stack = []\n",
        "        \n",
        "    def step(self):\n",
        "        instruction = self.code[self.pc]\n",
        "        self.pc += 1\n",
        "        if instruction == ADD():\n",
        "                self.stack.append(self.stack.pop() + self.stack.pop())\n",
        "        elif instruction == SUB():\n",
        "                self.stack.append(self.stack.pop() - self.stack.pop())\n",
        "        elif instruction == PUSH(n=instruction.n):\n",
        "                self.stack.append(instruction.n)\n",
        "        else:\n",
        "                assert False\n",
        "                \n",
        "    def run(self):\n",
        "        while self.pc < len(self.code):\n",
        "            self.step()\n",
        "        return self.stack[-1]"
      ],
      "metadata": {
        "id": "R-ObhX2uBIWK"
      },
      "execution_count": null,
      "outputs": []
    },
    {
      "cell_type": "markdown",
      "source": [
        "We initialize this stack machine with `code`—an array of opcodes to be executed. For example, we can use it to calculate the result of following expression: `(3 + 2) - 1`. \n",
        "It is executed in the following order: first, `[expr1 =] (3 + 2)`, then, `expr1 - 1`. The last operation performed in this expression is subtraction, therefore, our opcode sequence `code` will end with a `SUB()`. `SUB()` takes two operands from the top of the stack. The result of `PUSH(a), PUSH(b), SUB()` is `b - a`.\n",
        "\n",
        "Therefore, for `(3 + 2) - 1`, `code` should look as follows: `PUSH(1), [3 + 2], SUB()`. Similar to `SUB()`, `ADD()` performs addition between two top-stack elements. Therefore, the whole sequence would be: \n",
        "`m = StackArith([PUSH(1), PUSH(2), PUSH(3), ADD(), SUB()])`.\n",
        "You can check the result of this expression below by running `m.run()`."
      ],
      "metadata": {
        "id": "K6Sod-UkBID5"
      }
    },
    {
      "cell_type": "code",
      "source": [
        "# (3 + 2) - 1 -> 4\n",
        "m = StackArith([PUSH(1), PUSH(2), PUSH(3), ADD(), SUB()])\n",
        "m.run()"
      ],
      "metadata": {
        "id": "MapMPdd4BHxS",
        "colab": {
          "base_uri": "https://localhost:8080/"
        },
        "outputId": "711be862-5f33-40c2-e0c9-efc3653b5796"
      },
      "execution_count": null,
      "outputs": [
        {
          "output_type": "execute_result",
          "data": {
            "text/plain": [
              "4"
            ]
          },
          "metadata": {},
          "execution_count": 208
        }
      ]
    },
    {
      "cell_type": "markdown",
      "source": [
        "**Task 4:** Run the machine on an expression `(c * b) + a` with symbolic integer variables, e.g., `Int('a')`, `Int('b')`, and `Int('c')`, being pushed to the stack.\n",
        "\n",
        "You can run it on both symbolic *and* concrete values."
      ],
      "metadata": {
        "id": "k4N0s0vYLIZE"
      }
    },
    {
      "cell_type": "code",
      "source": [
        "# (c - b) + a\n",
        "\n",
        "m = StackArith([...]) # (1) Add the opcode sequence calculating the expression\n",
        "m.run()"
      ],
      "metadata": {
        "id": "JfBSplSQgKS3"
      },
      "execution_count": null,
      "outputs": []
    },
    {
      "cell_type": "code",
      "source": [
        "#@title Task 4 Solution\n",
        "# (c - b) + a\n",
        "\n",
        "m = StackArith([PUSH(Int('a')), PUSH(Int('b')), PUSH(Int('c')), SUB(), ADD()])\n",
        "m.run()\n",
        "\n",
        "m = StackArith([PUSH(5), PUSH(IntVal('3')), PUSH(Int('c')), SUB(), ADD()])\n",
        "m.run()\n"
      ],
      "metadata": {
        "id": "0QTaVExQLruL",
        "cellView": "form"
      },
      "execution_count": null,
      "outputs": []
    },
    {
      "cell_type": "markdown",
      "source": [
        "Let's extend the functionality of our machine so that it can process at least one *vulnerable*  execution path of our running example. To check the assertion in `deposit`, we will add an `ASSERT` opcode to our symbolic VM.\n",
        "\n",
        "We'll also add a new field `constraints` to our machine that will capture the execution context, i.e., constraints for each executed path. We'll initialize this field with a new instance of a (Z3) `Solver`: `self.constraints = Solver()`. `ASSERT()` adds a (Boolean) expression at the top of the stack to `constraints`.\n",
        "\n",
        "We also add path constraints to the Z3 solver along the (symbolic) execution process. Then we can use the solver to check satisfiability of the collected set of constraints upon encountering branch conditions, assertions, or other conditional statements. For now, we will do that in the end of the execution in the `run()` function, after processing of the `ASSERT()` opcode. If the constraint set is satisfiable, we ask the solver to return a *model*, i.e., satisfying assignments to symbolic variables.\n",
        "\n",
        "Let's also add Boolean operators to build assertions. In the code below, we added the `AND` operator, which works similarly to other binary operators we discussed above.\n",
        "\n",
        "**Task 5**: Using the examples of `AND` class definition and processing in `step()`, add binary operators less-than-or-equal `LTE`, greater-than-or-equal `GTE`, and a unary operator `NOT`.\n",
        "\n",
        "Use a resulting machine to find solution for the following expression: `x <= (5 + 10)`.\n",
        "To do so, your `code` should contain the opcodes that perform the following: (1) add `5` to `10`, (2) push `x` to the stack, (3) build a Boolean expression `x <= (5 + 10)` by using `LTE`, (4) check satisfiability of this constraint using **assert**."
      ],
      "metadata": {
        "id": "y305dD7MOC-4"
      }
    },
    {
      "cell_type": "code",
      "source": [
        "from dataclasses import dataclass\n",
        "\n",
        "@dataclass\n",
        "class ADD:\n",
        "    pass\n",
        "\n",
        "@dataclass\n",
        "class SUB:\n",
        "    pass\n",
        "\n",
        "@dataclass\n",
        "class PUSH:\n",
        "    n: int\n",
        "\n",
        "@dataclass\n",
        "class ASSERT:\n",
        "    pass\n",
        "\n",
        "@dataclass\n",
        "class AND:\n",
        "    pass\n",
        "\n",
        "# (1) Add classes for NOT, LTE, GTE opcodes\n",
        "@dataclass\n",
        "class ...\n",
        "\n",
        "class Assert_StackArith:\n",
        "    def __init__(self, code):\n",
        "        self.pc = 0\n",
        "        self.code = code\n",
        "        self.stack = []\n",
        "        # Adding the set of constraints to the machine state\n",
        "        self.constraints = Solver()\n",
        "        \n",
        "    def step(self):\n",
        "        instruction = self.code[self.pc]\n",
        "        self.pc += 1\n",
        "        if instruction == ADD():\n",
        "                self.stack.append(self.stack.pop() + self.stack.pop())\n",
        "        elif instruction == SUB():\n",
        "                self.stack.append(self.stack.pop() - self.stack.pop())\n",
        "        elif instruction == AND():\n",
        "                self.stack.append(And(self.stack.pop(), self.stack.pop()))\n",
        "        # (2) Add handling of NOT, LTE, GTE opcodes\n",
        "        # Note that NOT corresponds to (Not (expr1, expr2)) operator in Z3\n",
        "        elif instruction == ASSERT():\n",
        "                self.constraints.add(self.stack[-1])\n",
        "        elif instruction == PUSH(n=instruction.n):\n",
        "                self.stack.append(instruction.n)\n",
        "        else:\n",
        "                assert False\n",
        "                \n",
        "    def run(self):\n",
        "        while self.pc < len(self.code):\n",
        "            self.step()\n",
        "\n",
        "        # Checking if the resulting set of constraints is satisfiable\n",
        "        # Returning a model if they are\n",
        "        if self.constraints.check() == sat:\n",
        "            print('Contraints are satisfiable')\n",
        "            model = self.constraints.model()\n",
        "            return model\n",
        "        else:\n",
        "            print('Contraints are not satisfiable')\n",
        "            # The set of constraints is not satisfiable\n",
        "            return None"
      ],
      "metadata": {
        "id": "ch2hw7C8i324"
      },
      "execution_count": null,
      "outputs": []
    },
    {
      "cell_type": "code",
      "source": [
        "# x <= (5 + 10)\n",
        "\n",
        "m = Assert_StackArith([...]) # (3) Find solution for x\n",
        "m.run()"
      ],
      "metadata": {
        "id": "QiZRyXTomHfL"
      },
      "execution_count": null,
      "outputs": []
    },
    {
      "cell_type": "code",
      "source": [
        "#@title Task 5 Solution\n",
        "# x <= (5 + 10)\n",
        "\n",
        "from dataclasses import dataclass\n",
        "\n",
        "@dataclass\n",
        "class ADD:\n",
        "    pass\n",
        "\n",
        "@dataclass\n",
        "class SUB:\n",
        "    pass\n",
        "\n",
        "@dataclass\n",
        "class PUSH:\n",
        "    n: int\n",
        "\n",
        "@dataclass\n",
        "class ASSERT:\n",
        "    pass\n",
        "\n",
        "@dataclass\n",
        "class AND:\n",
        "    pass\n",
        "\n",
        "@dataclass\n",
        "class LTE:\n",
        "  pass\n",
        "\n",
        "@dataclass\n",
        "class GTE:\n",
        "  pass\n",
        "\n",
        "@dataclass\n",
        "class NOT:\n",
        "  pass\n",
        "\n",
        "class Assert_StackArith:\n",
        "    def __init__(self, code):\n",
        "        self.pc = 0\n",
        "        self.code = code\n",
        "        self.stack = []\n",
        "        # Adding the set of constraints to the machine state\n",
        "        self.constraints = Solver()\n",
        "        \n",
        "    def step(self):\n",
        "        instruction = self.code[self.pc]\n",
        "        self.pc += 1\n",
        "        if instruction == ADD():\n",
        "                self.stack.append(self.stack.pop() + self.stack.pop())\n",
        "        elif instruction == SUB():\n",
        "                self.stack.append(self.stack.pop() - self.stack.pop())\n",
        "        elif instruction == AND():\n",
        "                self.stack.append(And(self.stack.pop(), self.stack.pop()))\n",
        "        elif instruction == LTE():\n",
        "                self.stack.append(self.stack.pop() <= self.stack.pop())\n",
        "        elif instruction == GTE():\n",
        "                self.stack.append(self.stack.pop() >= self.stack.pop())\n",
        "        elif instruction == NOT():\n",
        "                self.stack.append(Not(self.stack.pop()))\n",
        "        elif instruction == ASSERT():\n",
        "                self.constraints.add(self.stack[-1])\n",
        "        elif instruction == PUSH(n=instruction.n):\n",
        "                self.stack.append(instruction.n)\n",
        "        else:\n",
        "                assert False\n",
        "                \n",
        "    def run(self):\n",
        "        while self.pc < len(self.code):\n",
        "            self.step()\n",
        "\n",
        "        # Checking if the resulting set of constraints is satisfiable\n",
        "        # Returning a model if they are\n",
        "        if self.constraints.check() == sat:\n",
        "            print('Contraints are satisfiable')\n",
        "            model = self.constraints.model()\n",
        "            return model\n",
        "        else:\n",
        "            # The set of constraints is not satisfiable\n",
        "            print('Contraints are not satisfiable')\n",
        "            return None\n",
        "\n",
        "\n",
        "# x <= (5 + 10)\n",
        "m = Assert_StackArith([PUSH(5), PUSH(10), ADD(), PUSH(Int('x')),\n",
        "                       LTE(), ASSERT()])\n",
        "m.run()"
      ],
      "metadata": {
        "id": "ksFbSASNjPJn",
        "cellView": "form"
      },
      "execution_count": null,
      "outputs": []
    },
    {
      "cell_type": "markdown",
      "source": [
        "Now, if you assert an unsatisfiable expression, our symbolic machine will will not be able to find a satisfying assignment. Consider the following example:"
      ],
      "metadata": {
        "id": "0EwHyE1GmoFs"
      }
    },
    {
      "cell_type": "code",
      "source": [
        "# x + 10 >= 9 && x >= 0\n",
        "\n",
        "x = Int('x')\n",
        "\n",
        "m = Assert_StackArith([PUSH(x), PUSH(IntVal('10')), ADD(), PUSH(IntVal('9')),\n",
        "                       GTE(), PUSH(0), PUSH(x), GTE(), AND(), ASSERT()])\n",
        "m.run()"
      ],
      "metadata": {
        "colab": {
          "base_uri": "https://localhost:8080/"
        },
        "id": "jI9eQRmCTgsG",
        "outputId": "24f81284-a220-48ae-af64-0733f8164a96"
      },
      "execution_count": null,
      "outputs": [
        {
          "output_type": "stream",
          "name": "stdout",
          "text": [
            "Contraints are not satisfiable\n"
          ]
        }
      ]
    },
    {
      "cell_type": "markdown",
      "source": [
        "We can now process the vulnerable execution path of our running example. Similar to how we did it in the first part of this exercise, we can, again, manually encode the constraints (`_in >= _out && _out <= balance_out`, `NOT (_approved >= _in)`, `NOT (balance_in + balance_out >= 200`).\n",
        "\n",
        "**Task 6**: Run the symbolic machine we've developed so far on the vulnerable execution path of the running example `Exchange`. Don't forget to use an updated value of `balance_out`! Use `ASSERT()` to add a Boolean expression to the set of constraints. "
      ],
      "metadata": {
        "id": "DbCunpHOpPnr"
      }
    },
    {
      "cell_type": "code",
      "source": [
        "s_in = Int('in')\n",
        "s_out = Int('out')\n",
        "s_appr = Int('appr')\n",
        "\n",
        "bal_in = IntVal('100')\n",
        "bal_out = IntVal('100')\n",
        "\n",
        "                # (4) if (_in >= _out && _out <= balance_out) {\n",
        "m = Assert_StackArith([..., ASSERT(),\n",
        "                # (5, 9) NOT if (_approved >= _in) { ... } // { else revert(); }\n",
        "                ..., ASSERT(),\n",
        "                # (11) balance_out -= _out;\n",
        "                ...,\n",
        "                # (14) balance_in + balance_out;\n",
        "                # Hint: the updated value of balance_out was calculated in the previous step\n",
        "                ...,\n",
        "                # (14) ASSERT NOT (balance_in + balance_out >= 200);\n",
        "                ..., NOT(), ASSERT()])\n",
        "\n",
        "m.run()"
      ],
      "metadata": {
        "id": "zVe8y3E6T64x"
      },
      "execution_count": null,
      "outputs": []
    },
    {
      "cell_type": "code",
      "source": [
        "#@title Task 6 Solution\n",
        "\n",
        "s_in = Int('in')\n",
        "s_out = Int('out')\n",
        "s_appr = Int('appr')\n",
        "\n",
        "bal_in = IntVal('100')\n",
        "bal_out = IntVal('100')\n",
        "\n",
        "                # (4) if (_in >= _out && _out <= balance_out) {\n",
        "m = Assert_StackArith([PUSH(s_out), PUSH(s_in), GTE(), PUSH(bal_out), PUSH(s_out), LTE(), AND(), ASSERT(),\n",
        "                # (5, 9) NOT if (_approved >= _in) { ... } // { else revert(); }\n",
        "                PUSH(s_in), PUSH(s_appr), GTE(), NOT(), ASSERT(),\n",
        "                # (11) balance_out -= _out;\n",
        "                PUSH(s_out), PUSH(bal_out), SUB(),\n",
        "                # (14) balance_in + balance_out\n",
        "                PUSH(bal_in), ADD(),\n",
        "                # (14) ASSERT NOT (balance_in + balance_out >= 200);\n",
        "                PUSH(200), LTE(), NOT(), ASSERT()])\n",
        "\n",
        "m.run()"
      ],
      "metadata": {
        "colab": {
          "base_uri": "https://localhost:8080/",
          "height": 52
        },
        "id": "nBf7CWgoqprL",
        "outputId": "e850008c-5d52-45ae-dd95-ea7800ae1b7c",
        "cellView": "form"
      },
      "execution_count": null,
      "outputs": [
        {
          "output_type": "stream",
          "name": "stdout",
          "text": [
            "Contraints are satisfiable\n"
          ]
        },
        {
          "output_type": "execute_result",
          "data": {
            "text/plain": [
              "[in = 65, out = 65, appr = 64]"
            ],
            "text/html": [
              "[in = 65, out = 65, appr = 64]"
            ]
          },
          "metadata": {},
          "execution_count": 6
        }
      ]
    },
    {
      "cell_type": "markdown",
      "source": [
        "As we can see from the result, Z3 helps us find similar concrete values triggering a property violation again."
      ],
      "metadata": {
        "id": "oVDSwP6ycZ4M"
      }
    },
    {
      "cell_type": "markdown",
      "source": [
        "#### Adding Read-Only Memory to Stack Machine\n",
        "\n",
        "Let's make the machine more realistic by adding memory to it—for now, read-only memory that can store some values during the execution of a smart contract (in fact, during the execution of one transaction). We'll pass the values stored in memory as a Python list at the initialization of the machine. These values are stored in its `memory` field: `self.memory = memory`. The memory can be read using an `MLOAD` instruction, which reads from a memory slot indexed by the top element on a stack."
      ],
      "metadata": {
        "id": "VhWf8Eq9rWu9"
      }
    },
    {
      "cell_type": "code",
      "source": [
        "@dataclass\n",
        "class MLOAD:\n",
        "    pass\n",
        "\n",
        "class ReadOnlyMem_Stack:\n",
        "    def __init__(self, code, memory):\n",
        "        self.pc = 0\n",
        "        self.code = code\n",
        "        self.stack = []\n",
        "        self.constraints = Solver()\n",
        "        # Added machine's memory\n",
        "        self.memory = memory\n",
        "        \n",
        "    def step(self):\n",
        "        instruction = self.code[self.pc]\n",
        "        self.pc += 1\n",
        "        if instruction == ADD():\n",
        "                self.stack.append(self.stack.pop() + self.stack.pop())\n",
        "        elif instruction == SUB():\n",
        "                self.stack.append(self.stack.pop() - self.stack.pop())\n",
        "        elif instruction == LTE():\n",
        "                self.stack.append(self.stack.pop() <= self.stack.pop())\n",
        "        elif instruction == GTE():\n",
        "                self.stack.append(self.stack.pop() >= self.stack.pop())\n",
        "        elif instruction == AND():\n",
        "                self.stack.append(And(self.stack.pop(),self.stack.pop()))\n",
        "        elif instruction == NOT():\n",
        "                self.stack.append(Not(self.stack.pop()))\n",
        "        elif instruction == ASSERT():\n",
        "                self.constraints.add(self.stack[-1])\n",
        "        elif instruction == MLOAD():\n",
        "              # MLOAD opcode reads from the memory slot\n",
        "              # indexed by a value at the top of the stack\n",
        "              self.stack.append(self.memory[self.stack.pop()])\n",
        "        elif instruction == PUSH(n=instruction.n):\n",
        "                self.stack.append(instruction.n)\n",
        "        else:\n",
        "                assert False\n",
        "                \n",
        "    def run(self):\n",
        "        while self.pc < len(self.code):\n",
        "            self.step()\n",
        "\n",
        "        return self.stack[-1]"
      ],
      "metadata": {
        "id": "QRaBImKsgK0c"
      },
      "execution_count": null,
      "outputs": []
    },
    {
      "cell_type": "markdown",
      "source": [
        "Let's see how that works:"
      ],
      "metadata": {
        "id": "kAfnVTnCs0J0"
      }
    },
    {
      "cell_type": "code",
      "source": [
        "mem = [0 for x in range(5)]\n",
        "mem[4] = 3\n",
        "print(mem)\n",
        "# (mem[4] + 2) - 1\n",
        "# -> (3 + 2) - 1 \n",
        "# -> 4\n",
        "m = ReadOnlyMem_Stack([PUSH(1), PUSH(2), PUSH(4), MLOAD(), ADD(), SUB()], mem)\n",
        "m.run()"
      ],
      "metadata": {
        "colab": {
          "base_uri": "https://localhost:8080/"
        },
        "id": "g21mFYYcgWk5",
        "outputId": "d469d44a-eb3d-440a-a7ba-b86d9246cebb"
      },
      "execution_count": null,
      "outputs": [
        {
          "output_type": "stream",
          "name": "stdout",
          "text": [
            "[0, 0, 0, 0, 3]\n"
          ]
        },
        {
          "output_type": "execute_result",
          "data": {
            "text/plain": [
              "4"
            ]
          },
          "metadata": {},
          "execution_count": 17
        }
      ]
    },
    {
      "cell_type": "markdown",
      "source": [
        "Converting stack-based arithmetic operations from fully concrete to fully or partially symbolic was rather straightforward. Symbolic memory is more complicated because the memory can store symbolic values, the memory can be indexed by symbolic values, and even the length of the memory can be symbolic.\n",
        "\n",
        "In general, there are different approaches to model memory in symbolic execution tools, and they all come with their own set of trade-offs (more details can be found in Section 3 of [A Survey of Symbolic Execution Techniques](https://arxiv.org/pdf/1610.00502.pdf) by Baldoni et al.).\n",
        "\n",
        "For simplicity, we will assume that memory addresses are concrete (and we add an assertion that the memory index is concrete in `MLOAD`) but it can store symbolic values."
      ],
      "metadata": {
        "id": "9BIC0morj6_H"
      }
    },
    {
      "cell_type": "code",
      "source": [
        "class SymMem_Stack:\n",
        "    def __init__(self, code, memory):\n",
        "        self.pc = 0\n",
        "        self.code = code\n",
        "        self.stack = []\n",
        "        self.constraints = Solver()\n",
        "        self.memory = memory\n",
        "        \n",
        "    def step(self):\n",
        "        instruction = self.code[self.pc]\n",
        "        self.pc += 1\n",
        "        if instruction == ADD():\n",
        "                self.stack.append(self.stack.pop() + self.stack.pop())\n",
        "        elif instruction == SUB():\n",
        "                self.stack.append(self.stack.pop() - self.stack.pop())\n",
        "        elif instruction == LTE():\n",
        "                self.stack.append(self.stack.pop() <= self.stack.pop())\n",
        "        elif instruction == GTE():\n",
        "                self.stack.append(self.stack.pop() >= self.stack.pop())\n",
        "        elif instruction == AND():\n",
        "                self.stack.append(And(self.stack.pop(), self.stack.pop()))\n",
        "        elif instruction == NOT():\n",
        "                self.stack.append(Not(self.stack.pop()))\n",
        "        elif instruction == ASSERT():\n",
        "                self.constraints.add(self.stack[-1])\n",
        "        elif instruction == MLOAD():\n",
        "              # Getting the requested index in memory\n",
        "              idx = self.stack.pop()\n",
        "              assert isinstance(idx, int), 'MLOAD: requires concrete index'\n",
        "              # Pushing the value read from this slot to stack\n",
        "              self.stack.append(self.memory[idx])\n",
        "        elif instruction == PUSH(n=instruction.n):\n",
        "                self.stack.append(instruction.n)\n",
        "        else:\n",
        "                assert False\n",
        "                \n",
        "    def run(self):\n",
        "        while self.pc < len(self.code):\n",
        "            self.step()\n",
        "\n",
        "        rv = self.stack[-1]\n",
        "        print(self.constraints)\n",
        "        if self.constraints.check() == sat:\n",
        "            print('Constraints are satisfiable')\n",
        "            model = self.constraints.model()\n",
        "            return model\n",
        "        else:\n",
        "            print('Constraints are not satisfiable')\n",
        "            return None"
      ],
      "metadata": {
        "id": "0yQsE6UBgipS"
      },
      "execution_count": null,
      "outputs": []
    },
    {
      "cell_type": "code",
      "source": [
        "# z + 2 - 1 >= 4 <=> mem[4] + 2 - 1 >= 4\n",
        "\n",
        "mem = [0 for x in range(5)]\n",
        "mem[4] = Int('z')\n",
        "print(mem)\n",
        "\n",
        "m = SymMem_Stack([PUSH(1), PUSH(2), PUSH(4), MLOAD(), ADD(), SUB(), PUSH(4), LTE(), ASSERT()], mem)\n",
        "\n",
        "m.run()"
      ],
      "metadata": {
        "colab": {
          "base_uri": "https://localhost:8080/",
          "height": 88
        },
        "id": "HeKclhK2kD1D",
        "outputId": "41042269-d841-4aed-922d-846c24546191"
      },
      "execution_count": null,
      "outputs": [
        {
          "output_type": "stream",
          "name": "stdout",
          "text": [
            "[0, 0, 0, 0, z]\n",
            "[z + 2 - 1 >= 4]\n",
            "Constraints are satisfiable\n"
          ]
        },
        {
          "output_type": "execute_result",
          "data": {
            "text/plain": [
              "[z = 3]"
            ],
            "text/html": [
              "[z = 3]"
            ]
          },
          "metadata": {},
          "execution_count": 30
        }
      ]
    },
    {
      "cell_type": "markdown",
      "source": [
        "If the memory address is symbolic, the machine will report an error."
      ],
      "metadata": {
        "id": "5uLe6ZQPu4fc"
      }
    },
    {
      "cell_type": "code",
      "source": [
        "mem = [0 for x in range(5)]\n",
        "m = SymMem_Stack([PUSH(Int('x')), MLOAD()], mem)\n",
        "try:\n",
        "    m.run()\n",
        "except AssertionError as e:\n",
        "    print(e)"
      ],
      "metadata": {
        "colab": {
          "base_uri": "https://localhost:8080/"
        },
        "id": "qGlEH-WnkHIH",
        "outputId": "67ae5901-491d-4aad-fad2-77536ce4d97f"
      },
      "execution_count": null,
      "outputs": [
        {
          "output_type": "stream",
          "name": "stdout",
          "text": [
            "MLOAD: requires concrete index\n"
          ]
        }
      ]
    },
    {
      "cell_type": "markdown",
      "source": [
        "#### Making Memory Writable Using Arrays"
      ],
      "metadata": {
        "id": "UWQCWiGcvDVU"
      }
    },
    {
      "cell_type": "markdown",
      "source": [
        "To make memory writeable, we will use `Array` sort of Z3 we discussed in the first part of the exercise. In a machine, `memory` will now be an integer array called \"memory\" indexed by integers (`self.memory = Array('memory', IntSort(), IntSort())`).\n",
        "\n",
        "We'll add an additional `MSTORE` instruction that reads (1) an `index` and (2) a `value` from stack, and writes `value` to the `index` slot in the memory array using a `Store` operation (`self.memory = Store(self.memory, idx, val)`).\n",
        "\n",
        "Notice that this writeable memory here corresponds to the *symbolic memory state* maintained by a symbolic execution engine. This state is updated through the execution of assignments."
      ],
      "metadata": {
        "id": "3uWiNojqpD4t"
      }
    },
    {
      "cell_type": "code",
      "source": [
        "@dataclass\n",
        "class MSTORE:\n",
        "    pass\n",
        "\n",
        "class SymMem_Stack:\n",
        "    def __init__(self, code):\n",
        "        self.pc = 0\n",
        "        self.code = code\n",
        "        self.stack = []\n",
        "        self.constraints = Solver()\n",
        "        # Memory is now a Z3 array\n",
        "        self.memory = Array('memory', IntSort(), IntSort())\n",
        "        \n",
        "    def step(self):\n",
        "        instruction = self.code[self.pc]\n",
        "        self.pc += 1\n",
        "        if instruction == ADD():\n",
        "                self.stack.append(self.stack.pop() + self.stack.pop())\n",
        "        elif instruction == SUB():\n",
        "                self.stack.append(self.stack.pop() - self.stack.pop())\n",
        "        elif instruction == LTE():\n",
        "                self.stack.append(self.stack.pop() <= self.stack.pop())\n",
        "        elif instruction == GTE():\n",
        "                self.stack.append(self.stack.pop() >= self.stack.pop())\n",
        "        elif instruction == AND():\n",
        "                self.stack.append(And(self.stack.pop(), self.stack.pop()))\n",
        "        elif instruction == NOT():\n",
        "                self.stack.append(Not(self.stack.pop()))\n",
        "        elif instruction == ASSERT():\n",
        "                self.constraints.add(self.stack[-1])\n",
        "        elif instruction == MLOAD():\n",
        "              idx = self.stack.pop()\n",
        "              assert isinstance(idx, int), 'MLOAD: requires concrete index'\n",
        "              self.stack.append(self.memory[idx])\n",
        "        elif instruction == MSTORE():\n",
        "                idx = self.stack.pop()\n",
        "                val = self.stack.pop()\n",
        "                # Writing val to memory[idx]\n",
        "                self.memory = Store(self.memory, idx, val)\n",
        "        elif instruction == PUSH(n=instruction.n):\n",
        "                self.stack.append(instruction.n)\n",
        "        else:\n",
        "                assert False\n",
        "                \n",
        "    def run(self):\n",
        "        while self.pc < len(self.code):\n",
        "            self.step()\n",
        "\n",
        "        if self.constraints.check() == sat:\n",
        "            print('Constraints are satisfiable')\n",
        "            model = self.constraints.model()\n",
        "            return model\n",
        "        else:\n",
        "            print('Constraints are not satisfiable')\n",
        "            return None"
      ],
      "metadata": {
        "id": "5O3Fmez8omyZ"
      },
      "execution_count": null,
      "outputs": []
    },
    {
      "cell_type": "code",
      "source": [
        "# (1) memory[0] = x\n",
        "# (2) 4 <= (memory[0] + 2) - 1\n",
        "\n",
        "m = SymMem_Stack([\n",
        "    PUSH(1),\n",
        "    PUSH(2),\n",
        "    # memory[0] = x\n",
        "    PUSH(Int('x')), PUSH(0), MSTORE(),\n",
        "    # memory[0]\n",
        "    PUSH(0), MLOAD(),\n",
        "    ADD(), \n",
        "    SUB(), \n",
        "    PUSH(4), LTE(), ASSERT()])\n",
        "\n",
        "m.run()"
      ],
      "metadata": {
        "colab": {
          "base_uri": "https://localhost:8080/",
          "height": 52
        },
        "id": "1S9nfcnopudF",
        "outputId": "47a091c0-dfe6-4f16-d336-a7b8332190f5"
      },
      "execution_count": null,
      "outputs": [
        {
          "output_type": "stream",
          "name": "stdout",
          "text": [
            "Constraints are satisfiable\n"
          ]
        },
        {
          "output_type": "execute_result",
          "data": {
            "text/plain": [
              "[x = 3]"
            ],
            "text/html": [
              "[x = 3]"
            ]
          },
          "metadata": {},
          "execution_count": 32
        }
      ]
    },
    {
      "cell_type": "markdown",
      "source": [
        "**Task 7**: Similarly, find the solution for the following expression:\n",
        "```\n",
        "# memory[1] = y\n",
        "# 5 >= (memory[1] - 10) + 1\n",
        "```"
      ],
      "metadata": {
        "id": "XQHwSVTDxQFM"
      }
    },
    {
      "cell_type": "code",
      "source": [
        "# (1) memory[1] = y\n",
        "# (2) 5 >= (memory[1] - 10) + 1\n",
        "\n",
        "m = SymMem_Stack([\n",
        "    ..., # Insert the opcodes for the expression\n",
        "    ASSERT()]) \n",
        "\n",
        "m.run()"
      ],
      "metadata": {
        "id": "dur5uuIHxjZQ"
      },
      "execution_count": null,
      "outputs": []
    },
    {
      "cell_type": "code",
      "source": [
        "#@title Task 7 Solution\n",
        "\n",
        "# (1) memory[1] = y\n",
        "# (2) 5 >= (memory[1] - 10) + 1\n",
        "\n",
        "m = SymMem_Stack([\n",
        "    PUSH(1),\n",
        "    PUSH(10),\n",
        "    # memory[0] = x\n",
        "    PUSH(Int('y')), PUSH(1), MSTORE(),\n",
        "    # memory[0]\n",
        "    PUSH(1), MLOAD(),\n",
        "    SUB(), \n",
        "    ADD(), \n",
        "    PUSH(5), GTE(), ASSERT()])\n",
        "\n",
        "m.run()"
      ],
      "metadata": {
        "id": "AFGo_ooLxtlO",
        "cellView": "form"
      },
      "execution_count": null,
      "outputs": []
    },
    {
      "cell_type": "markdown",
      "source": [
        "#### Introducing Conditional Jumps"
      ],
      "metadata": {
        "id": "GmL7NcK9xNkt"
      }
    },
    {
      "cell_type": "markdown",
      "source": [
        "The key functionality of symbolic execution is its ability to explore multiple execution paths at the same time. To add this feature to our symbolic tool, we need EVM's `JUMPI` instruction. This instruction reads the Boolean value from the top of the stack and, depending on whether it is *true* or *false*, jumps to a certain pc. In fact, `JUMPI` reads two values from the stack: a condition and a destination (`pc` number). In our implementation, the jump occurs if the condition does not hold.\n",
        "\n",
        "We'll also add a `STOP` instruction: it will just move `pc` to the end of the code sequence."
      ],
      "metadata": {
        "id": "haOdKGHvz-8m"
      }
    },
    {
      "cell_type": "code",
      "source": [
        "@dataclass\n",
        "class JUMPI:\n",
        "    pass\n",
        "\n",
        "@dataclass\n",
        "class STOP:\n",
        "    pass\n",
        "\n",
        "class Cond_Stack:\n",
        "    def __init__(self, code):\n",
        "        self.pc = 0\n",
        "        self.code = code\n",
        "        self.stack = []\n",
        "        self.constraints = Solver()\n",
        "        self.memory = Array('memory', IntSort(), IntSort())\n",
        "        \n",
        "    def step(self):\n",
        "        instruction = self.code[self.pc]\n",
        "\n",
        "        if instruction == JUMPI():\n",
        "            dest = self.stack.pop()\n",
        "            cond = self.stack.pop()\n",
        "            # If the condition holds, move on to the next statement\n",
        "            # Otherwise — jump to the destination 'dest' \n",
        "            self.pc = self.pc + 1 if cond else dest\n",
        "            return\n",
        "           \n",
        "        self.pc += 1\n",
        "        if instruction == ADD():\n",
        "                self.stack.append(self.stack.pop() + self.stack.pop())\n",
        "        elif instruction == SUB():\n",
        "                self.stack.append(self.stack.pop() - self.stack.pop())\n",
        "        elif instruction == LTE():\n",
        "                self.stack.append(self.stack.pop() <= self.stack.pop())\n",
        "        elif instruction == GTE():\n",
        "                self.stack.append(self.stack.pop() >= self.stack.pop())\n",
        "        elif instruction == AND():\n",
        "                self.stack.append(And(self.stack.pop(), self.stack.pop()))\n",
        "        elif instruction == NOT():\n",
        "                self.stack.append(Not(self.stack.pop()))\n",
        "        elif instruction == ASSERT():\n",
        "                self.constraints.add(self.stack[-1])\n",
        "        elif instruction == MLOAD():\n",
        "              idx = self.stack.pop()\n",
        "              assert isinstance(idx, int), 'MLOAD: requires concrete index'\n",
        "              self.stack.append(self.memory[idx])\n",
        "        elif instruction == MSTORE():\n",
        "                idx = self.stack.pop()\n",
        "                val = self.stack.pop()\n",
        "                self.memory = Store(self.memory, idx, val)\n",
        "        elif instruction == STOP():\n",
        "                # STOP moves the pc to the end of the execution\n",
        "                self.pc = len(self.code)\n",
        "        elif instruction == PUSH(n=instruction.n):\n",
        "                self.stack.append(instruction.n)\n",
        "        else:\n",
        "                assert False\n",
        "                \n",
        "    def run(self):\n",
        "        while self.pc < len(self.code):\n",
        "            self.step()\n",
        "        print(self.stack[-1])"
      ],
      "metadata": {
        "id": "lyEb6QDXtgKR"
      },
      "execution_count": null,
      "outputs": []
    },
    {
      "cell_type": "markdown",
      "source": [
        "We'll illustrate how it works on concrete values. Consider the following example: if `10 <= (4 - (2 + 3) - 1)` holds, `100` is being pushed to the stack, and the execution stops. If not (as it does), `200` is pushed to the stack."
      ],
      "metadata": {
        "id": "BrI9fp692RzS"
      }
    },
    {
      "cell_type": "code",
      "source": [
        "# (1) (2 + 3) - 1 = 4\n",
        "# (2) 4 - 4 = 0\n",
        "# (3) 10 <= (4 - (2 + 3) - 1)?\n",
        "m = Cond_Stack([\n",
        "    PUSH(1),  # Instruction #0\n",
        "    PUSH(2),  # Instruction #1\n",
        "    PUSH(3),  # ... \n",
        "    ADD(), \n",
        "    SUB(),\n",
        "    PUSH(4),\n",
        "    SUB(),\n",
        "    PUSH(10),\n",
        "    # Is 10 <= 4 - (2 + 3) - 1?\n",
        "    LTE(),\n",
        "    # if not, set pc to 13\n",
        "    # (push 200)\n",
        "    PUSH(13),\n",
        "    JUMPI(),\n",
        "    # The condition did hold\n",
        "    PUSH(100),\n",
        "    STOP(),\n",
        "    # The next pc is 13\n",
        "    # The condition did hold\n",
        "    PUSH(200)\n",
        "])\n",
        "\n",
        "m.run()"
      ],
      "metadata": {
        "colab": {
          "base_uri": "https://localhost:8080/"
        },
        "id": "jYXGvapg1kMy",
        "outputId": "e2745767-0428-4eeb-c57a-478d2ebcfeff"
      },
      "execution_count": null,
      "outputs": [
        {
          "output_type": "stream",
          "name": "stdout",
          "text": [
            "200\n"
          ]
        }
      ]
    },
    {
      "cell_type": "markdown",
      "source": [
        "The value at the top of the stack is `200`, as we expected. Try changing one of the concrete values (e.g., 4 to 40) in a way that causes another branch to execute, and check the result—the value on the stack should be `100`."
      ],
      "metadata": {
        "id": "Q8sqNUBd4-LS"
      }
    },
    {
      "cell_type": "code",
      "source": [
        "# (1) (2 + 3) - 1 = 4\n",
        "# (2) 4 - 4 = 0\n",
        "# (3) 10 <= 4 - (2 + 3) - 1?\n",
        "m = Cond_Stack([\n",
        "    PUSH(1),  # Instruction #0\n",
        "    PUSH(2),  # Instruction #1\n",
        "    PUSH(3),  # ... \n",
        "    ADD(), \n",
        "    SUB(),\n",
        "    PUSH(...), # (1) Insert some value that makes '10 <= 4 - (2 + 3) - 1' hold\n",
        "    SUB(),\n",
        "    PUSH(10),\n",
        "    # Is 10 <= 4 - (2 + 3) - 1?\n",
        "    LTE(),\n",
        "    # if not, set pc to 13\n",
        "    # (push 200)\n",
        "    PUSH(13),\n",
        "    JUMPI(),\n",
        "    # The condition did hold\n",
        "    PUSH(100),\n",
        "    STOP(),\n",
        "    # The next pc is 13\n",
        "    # The condition did hold\n",
        "    PUSH(200) # Instruction #13\n",
        "])\n",
        "\n",
        "m.run()"
      ],
      "metadata": {
        "id": "NPJo07H-5KfT"
      },
      "execution_count": null,
      "outputs": []
    },
    {
      "cell_type": "markdown",
      "source": [
        "Our machine can work with conditional jumps, meaning that it can analyze *branches* in the execution path. But what if the conditional argument to the jump is symbolic? Symbolic here means that it can either be true of false, both of these conditions are satisfiable under some assignments. In this case, our symbolic machine must analyze both paths, provided that their respective constraints are satisfiable. This means that our machine must now keep track of multiple execution contexts (corresponding to all branches taken). To allow that, let's define a new class `MachineContext` that will store the information about a machine's execution context: its pc, stack, memory, constraints. The `code` is shared by all machines, so we leave it in our execution engine class.\n",
        "\n",
        "Upon every conditional jump, we will split the context into 2 (i.e., fork the execution) by making a copy of the current context. One of them would take the *true* branch and another—the *false* branch, which will be reflected in their `constraints`.\n",
        "This implementation explores the execution tree produced by symbolic execution in the DFS ([depth-first search](https://en.wikipedia.org/wiki/Depth-first_search)) manner."
      ],
      "metadata": {
        "id": "rwvZ9hd83StT"
      }
    },
    {
      "cell_type": "code",
      "source": [
        "@dataclass\n",
        "class MachineContext:\n",
        "    pc: int\n",
        "    stack: any\n",
        "    memory: any\n",
        "    constraints: any\n",
        "        \n",
        "    def __copy__(self):\n",
        "        return MachineContext(\n",
        "            pc=self.pc,\n",
        "            stack=self.stack.copy(),\n",
        "            # Memory is represented as an SMT Array which is immutable\n",
        "            # and does not need to be copied\n",
        "            memory=self.memory,\n",
        "            constraints=copy.copy(self.constraints)\n",
        "        )\n",
        "\n",
        "class SymCond:\n",
        "    def __init__(self, code):\n",
        "        self.code = code\n",
        "        # Now multiple machine contexts can be stored\n",
        "        self.machines = [\n",
        "            MachineContext(\n",
        "                pc=0, \n",
        "                stack=[], \n",
        "                memory=Array('memory', IntSort(), IntSort()), \n",
        "                constraints=Solver()\n",
        "            )\n",
        "        ]\n",
        "        \n",
        "    def step(self, machine):\n",
        "        instruction = self.code[machine.pc]\n",
        "\n",
        "        # JUMPI now creates two different machine contexts        \n",
        "        if instruction == JUMPI():\n",
        "            dest = machine.stack.pop()\n",
        "            assert isinstance(dest, int), 'JUMPI: requires concrete destination'\n",
        "            cond = machine.stack.pop()\n",
        "            other_machine = copy.copy(machine)\n",
        "            \n",
        "            # Another machine does take the jump\n",
        "            other_machine.pc = dest\n",
        "            # Its constraints are updated accordingly\n",
        "            other_machine.constraints.append(Not(cond))\n",
        "            \n",
        "            # The current machine does not take the jump\n",
        "            machine.pc = machine.pc + 1\n",
        "            machine.constraints.append(cond)\n",
        "            \n",
        "            self.machines.append(other_machine)\n",
        "\n",
        "            return        \n",
        "           \n",
        "        machine.pc += 1\n",
        "        if instruction == ADD():\n",
        "                machine.stack.append(machine.stack.pop() + machine.stack.pop())\n",
        "        elif instruction == SUB():\n",
        "                machine.stack.append(machine.stack.pop() - machine.stack.pop())\n",
        "        elif instruction == LTE():\n",
        "                machine.stack.append(machine.stack.pop() <= machine.stack.pop())\n",
        "        elif instruction == GTE():\n",
        "                machine.stack.append(machine.stack.pop() >= machine.stack.pop())\n",
        "        elif instruction == AND():\n",
        "                machine.stack.append(And(machine.stack.pop(), machine.stack.pop()))\n",
        "        elif instruction == NOT():\n",
        "                machine.stack.append(Not(machine.stack.pop()))\n",
        "        elif instruction == ASSERT():\n",
        "                machine.constraints.add(machine.stack[-1])\n",
        "        elif instruction == MLOAD():\n",
        "              idx = machine.stack.pop()\n",
        "              assert isinstance(idx, int), 'MLOAD: requires concrete index'\n",
        "              machine.stack.append(machine.memory[idx])\n",
        "        elif instruction == MSTORE():\n",
        "                idx = machine.stack.pop()\n",
        "                val = machine.stack.pop()\n",
        "                machine.memory = Store(machine.memory, idx, val)\n",
        "        elif instruction == STOP():\n",
        "                machine.pc = len(self.code)\n",
        "        elif instruction == PUSH(n=instruction.n):\n",
        "                machine.stack.append(instruction.n)\n",
        "        else:\n",
        "                assert False\n",
        "\n",
        "    def choose_machine(self):\n",
        "        machine = None\n",
        "        \n",
        "        for m in self.machines:\n",
        "            if m.pc < len(self.code):\n",
        "                machine = m\n",
        "                break\n",
        "                \n",
        "        return machine        \n",
        "\n",
        "    def run(self):\n",
        "        machine = self.choose_machine()\n",
        "        \n",
        "        while machine:\n",
        "            self.step(machine)\n",
        "            machine = self.choose_machine()            \n",
        "                \n",
        "        for m in self.machines:\n",
        "          if m.constraints.check() == sat:\n",
        "              print('Constraints are satisfiable')\n",
        "              model = m.constraints.model()\n",
        "              print(m.stack[-1])\n",
        "              print(model)\n",
        "          else:\n",
        "              print('Constraints are not satisfiable')"
      ],
      "metadata": {
        "id": "sjwYHysi2CHe"
      },
      "execution_count": null,
      "outputs": []
    },
    {
      "cell_type": "markdown",
      "source": [
        "**Task 8**: modify our previous example (`10 <= (4 - (2 + 3) - 1)`) so that it has symbolic arguments (`(w <= u - (x + y) - z)`). Run our tool on it: you should be able to see that our tool now explores both paths and generates concrete values that force the execution to take either of these paths."
      ],
      "metadata": {
        "id": "MSyL24DP9k8P"
      }
    },
    {
      "cell_type": "code",
      "source": [
        "m = SymCond([\n",
        "    PUSH(...), # (1) Change previously concrete arguments to symbolic\n",
        "    PUSH(...), \n",
        "    PUSH(...), \n",
        "    ADD(), \n",
        "    SUB(),\n",
        "    PUSH(...),\n",
        "    SUB(),\n",
        "    PUSH(...),\n",
        "    LTE(),\n",
        "    PUSH(13),\n",
        "    JUMPI(),\n",
        "    PUSH(100),\n",
        "    STOP(),\n",
        "    # pc = 12\n",
        "    PUSH(200)\n",
        "])\n",
        "m.run()"
      ],
      "metadata": {
        "id": "JXWXBitj41M0"
      },
      "execution_count": null,
      "outputs": []
    },
    {
      "cell_type": "code",
      "source": [
        "#@title Task 8 Solution\n",
        "\n",
        "m = SymCond([\n",
        "    PUSH((Int('x'))), \n",
        "    PUSH(Int('y')), \n",
        "    PUSH(Int('z')), \n",
        "    ADD(), \n",
        "    SUB(),\n",
        "    PUSH(Int('u')),\n",
        "    SUB(),\n",
        "    PUSH(Int('w')),\n",
        "    # if not, set pc to 13 (push 200)\n",
        "    LTE(),\n",
        "    PUSH(13),\n",
        "    JUMPI(),\n",
        "    # The condition did hold\n",
        "    PUSH(100),\n",
        "    STOP(),\n",
        "    # pc = 12\n",
        "    # The condition did not hold\n",
        "    PUSH(200)\n",
        "])\n",
        "m.run()"
      ],
      "metadata": {
        "id": "2pPe1iro-WBL",
        "cellView": "form"
      },
      "execution_count": null,
      "outputs": []
    },
    {
      "cell_type": "markdown",
      "source": [
        "At the moment, we check satisfiability of a resulting set of constraints at the end of the execution path. However, a more common approach is to perform *eager evaluation* of path constraints when their satisfiability is (eagerly) checked when each branch is taken.\n",
        "\n",
        "**Task 9**: Add eager constraint evaluation to the processing of the `JUMPI` instruction. If the resulting path conditions are UNSAT, there is no point in analyzing this execution path further: it is unreachable and cannot be taken. Therefore, the context with these constraints can be discarded.\n",
        "\n",
        "Since `constraints` are implemented as an instance of `z3.Solver`, their satisfiability can be checked by running `constraints.check()`. The result is `z3.sat` if the set of constraints is satisfiable, `z3.unsat` — if it isn't, and `z3.unknown` if Z3 couldn't solve a system of constraints. "
      ],
      "metadata": {
        "id": "DNiHRShW6L0h"
      }
    },
    {
      "cell_type": "code",
      "source": [
        "@dataclass\n",
        "class MachineContext:\n",
        "    pc: int\n",
        "    stack: any\n",
        "    memory: any\n",
        "    constraints: any\n",
        "        \n",
        "    def __copy__(self):\n",
        "        return MachineContext(\n",
        "            pc=self.pc,\n",
        "            stack=self.stack.copy(),\n",
        "            memory=self.memory,\n",
        "            constraints=copy.copy(self.constraints)\n",
        "        )\n",
        "      \n",
        "\n",
        "class Opt_SymCond:\n",
        "    def __init__(self, code):\n",
        "        self.code = code\n",
        "        \n",
        "        self.machines = [\n",
        "            MachineContext(\n",
        "                pc=0, \n",
        "                stack=[], \n",
        "                memory=Array('memory', IntSort(), IntSort()), \n",
        "                constraints=Solver()\n",
        "            )\n",
        "        ]\n",
        "        \n",
        "    def step(self, machine):\n",
        "        instruction = self.code[machine.pc]\n",
        "\n",
        "        if instruction == JUMPI():\n",
        "            dest = machine.stack.pop()\n",
        "            assert isinstance(dest, int), 'JUMPI: requires concrete destination'\n",
        "            cond = machine.stack.pop()\n",
        "            \n",
        "            other_machine = copy.copy(machine)\n",
        "            \n",
        "            other_machine.pc = dest\n",
        "            other_machine.constraints.append(Not(cond))\n",
        "            \n",
        "            machine.pc = machine.pc + 1\n",
        "            machine.constraints.append(cond)\n",
        "            \n",
        "            # (1) Check if constraints for the current, 'true', branch context are UNSAT\n",
        "            # (2) If they are — drop the machine context from the list of machines (self.machines)\n",
        "            \n",
        "            # (3) Check if constraints for the new, 'false', branch context are SAT\n",
        "            # (4) If they are — add the new context to the list of machines\n",
        "\n",
        "            return        \n",
        "\n",
        "        machine.pc += 1\n",
        "        if instruction == ADD():\n",
        "                machine.stack.append(machine.stack.pop() + machine.stack.pop())\n",
        "        elif instruction == SUB():\n",
        "                machine.stack.append(machine.stack.pop() - machine.stack.pop())\n",
        "        elif instruction == LTE():\n",
        "                machine.stack.append(machine.stack.pop() <= machine.stack.pop())\n",
        "        elif instruction == GTE():\n",
        "                machine.stack.append(machine.stack.pop() >= machine.stack.pop())\n",
        "        elif instruction == AND():\n",
        "                machine.stack.append(And(machine.stack.pop(), machine.stack.pop()))\n",
        "        elif instruction == NOT():\n",
        "                machine.stack.append(Not(machine.stack.pop()))\n",
        "        elif instruction == ASSERT():\n",
        "                machine.constraints.add(machine.stack[-1])\n",
        "        elif instruction == MLOAD():\n",
        "              idx = machine.stack.pop()\n",
        "              assert isinstance(idx, int), 'MLOAD: requires concrete index'\n",
        "              machine.stack.append(machine.memory[idx])\n",
        "        elif instruction == MSTORE():\n",
        "                idx = machine.stack.pop()\n",
        "                val = machine.stack.pop()\n",
        "                machine.memory = Store(machine.memory, idx, val)\n",
        "        elif instruction == STOP():\n",
        "                machine.pc = len(self.code)\n",
        "        elif instruction == PUSH(n=instruction.n):\n",
        "                machine.stack.append(instruction.n)\n",
        "        else:\n",
        "                assert False\n",
        "\n",
        "    def choose_machine(self):\n",
        "        machine = None\n",
        "        \n",
        "        for m in self.machines:\n",
        "            if m.pc < len(self.code):\n",
        "                machine = m\n",
        "                break\n",
        "                \n",
        "        return machine        \n",
        "\n",
        "    def run(self):\n",
        "        machine = self.choose_machine()\n",
        "        \n",
        "        while machine:\n",
        "            self.step(machine)\n",
        "            machine = self.choose_machine()            \n",
        "                \n",
        "        for m in self.machines:\n",
        "          if m.constraints.check() == sat:\n",
        "              print('Constraints are satisfiable')\n",
        "              model = m.constraints.model()\n",
        "              print(model)\n",
        "          else:\n",
        "              print('Constraints are not satisfiable')"
      ],
      "metadata": {
        "id": "-Vgcv_Qv44hv"
      },
      "execution_count": null,
      "outputs": []
    },
    {
      "cell_type": "code",
      "source": [
        "#@title Task 9 Solution\n",
        "\n",
        "@dataclass\n",
        "class MachineContext:\n",
        "    pc: int\n",
        "    stack: any\n",
        "    memory: any\n",
        "    constraints: any\n",
        "        \n",
        "    def __copy__(self):\n",
        "        return MachineContext(\n",
        "            pc=self.pc,\n",
        "            stack=self.stack.copy(),\n",
        "            memory=self.memory,\n",
        "            constraints=copy.copy(self.constraints)\n",
        "        )\n",
        "      \n",
        "\n",
        "class Opt_SymCond:\n",
        "    def __init__(self, code):\n",
        "        self.code = code\n",
        "        \n",
        "        self.machines = [\n",
        "            MachineContext(\n",
        "                pc=0, \n",
        "                stack=[], \n",
        "                memory=Array('memory', IntSort(), IntSort()), \n",
        "                constraints=Solver()\n",
        "            )\n",
        "        ]\n",
        "        \n",
        "    def step(self, machine):\n",
        "        instruction = self.code[machine.pc]\n",
        "\n",
        "        if instruction == JUMPI():\n",
        "            dest = machine.stack.pop()\n",
        "            assert isinstance(dest, int), 'JUMPI: requires concrete destination'\n",
        "            cond = machine.stack.pop()\n",
        "            \n",
        "            other_machine = copy.copy(machine)\n",
        "            \n",
        "            other_machine.pc = dest\n",
        "            other_machine.constraints.append(Not(cond))\n",
        "            \n",
        "            machine.pc = machine.pc + 1\n",
        "            machine.constraints.append(cond)\n",
        "            \n",
        "            # Drop this machine context from the list if its constraints are UNSAT\n",
        "            if machine.constraints.check() == unsat:\n",
        "                self.machines.remove(machine)\n",
        "            \n",
        "            # Add other_machine only if its constraints are SAT\n",
        "            if other_machine.constraints.check() == sat:\n",
        "                self.machines.append(other_machine)\n",
        "\n",
        "            return        \n",
        "\n",
        "        machine.pc += 1\n",
        "        if instruction == ADD():\n",
        "                machine.stack.append(machine.stack.pop() + machine.stack.pop())\n",
        "        elif instruction == SUB():\n",
        "                machine.stack.append(machine.stack.pop() - machine.stack.pop())\n",
        "        elif instruction == LTE():\n",
        "                machine.stack.append(machine.stack.pop() <= machine.stack.pop())\n",
        "        elif instruction == GTE():\n",
        "                machine.stack.append(machine.stack.pop() >= machine.stack.pop())\n",
        "        elif instruction == AND():\n",
        "                machine.stack.append(And(machine.stack.pop(), machine.stack.pop()))\n",
        "        elif instruction == NOT():\n",
        "                machine.stack.append(Not(machine.stack.pop()))\n",
        "        elif instruction == ASSERT():\n",
        "                machine.constraints.add(machine.stack[-1])\n",
        "        elif instruction == MLOAD():\n",
        "              idx = machine.stack.pop()\n",
        "              assert isinstance(idx, int), 'MLOAD: requires concrete index'\n",
        "              machine.stack.append(machine.memory[idx])\n",
        "        elif instruction == MSTORE():\n",
        "                idx = machine.stack.pop()\n",
        "                val = machine.stack.pop()\n",
        "                machine.memory = Store(machine.memory, idx, val)\n",
        "        elif instruction == STOP():\n",
        "                machine.pc = len(self.code)\n",
        "        elif instruction == PUSH(n=instruction.n):\n",
        "                machine.stack.append(instruction.n)\n",
        "        else:\n",
        "                assert False\n",
        "\n",
        "    def choose_machine(self):\n",
        "        machine = None\n",
        "        \n",
        "        for m in self.machines:\n",
        "            if m.pc < len(self.code):\n",
        "                machine = m\n",
        "                break\n",
        "                \n",
        "        return machine        \n",
        "\n",
        "    def run(self):\n",
        "        machine = self.choose_machine()\n",
        "        \n",
        "        while machine:\n",
        "            self.step(machine)\n",
        "            machine = self.choose_machine()            \n",
        "                \n",
        "        for m in self.machines:\n",
        "          if m.constraints.check() == sat:\n",
        "              print('Constraints are satisfiable')\n",
        "              model = m.constraints.model()\n",
        "              print(model)\n",
        "          else:\n",
        "              print('Constraints are not satisfiable')"
      ],
      "metadata": {
        "id": "Y3M7pzUV_uyT",
        "cellView": "form"
      },
      "execution_count": null,
      "outputs": []
    },
    {
      "cell_type": "markdown",
      "source": [
        "Let's test the new version of our tool on the same example as before. The result of the execution should be the same as before we introduced eager evaluation."
      ],
      "metadata": {
        "id": "eHAXh0ft0u2W"
      }
    },
    {
      "cell_type": "code",
      "source": [
        "m = Opt_SymCond([\n",
        "    PUSH((Int('x'))), \n",
        "    PUSH(Int('y')), \n",
        "    PUSH(Int('z')), \n",
        "    ADD(), \n",
        "    SUB(),\n",
        "    PUSH(Int('u')),\n",
        "    SUB(),\n",
        "    PUSH(Int('w')),\n",
        "    # if not, set pc to 13 (push 200)\n",
        "    LTE(),\n",
        "    PUSH(13),\n",
        "    JUMPI(),\n",
        "    # The condition did hold\n",
        "    PUSH(100),\n",
        "    STOP(),\n",
        "    # pc = 12\n",
        "    # The condition did not hold\n",
        "    PUSH(200)\n",
        "])\n",
        "m.run()"
      ],
      "metadata": {
        "colab": {
          "base_uri": "https://localhost:8080/"
        },
        "id": "yPPv81dr6nUW",
        "outputId": "ac4a78cf-52a5-4c48-d2d6-7fc17738ae26"
      },
      "execution_count": null,
      "outputs": [
        {
          "output_type": "stream",
          "name": "stdout",
          "text": [
            "Constraints are satisfiable\n",
            "[w = 0, u = 0, z = 0, y = 0, x = 0]\n",
            "Constraints are satisfiable\n",
            "[w = 1, u = 0, z = 0, y = 0, x = 0]\n"
          ]
        }
      ]
    },
    {
      "cell_type": "markdown",
      "source": [
        "We can use our symbolic execution tools to analyze our running example `Exchange`.\n",
        "\n",
        "**Task 10**: Add our simplified-EVM bytecode representation of the `deposit` function we're analyzing. Run the latest `Opt_SymCond` version of our symbolic machine and analyze the result. The code of `deposit` is given below:\n",
        "\n",
        "```cpp\n",
        " 1     uint balance_in = 100; uint balance_out = 100;\n",
        " 2 \n",
        " 3     if (_in >= _out && _out <= balance_out) {\n",
        " 4         if (_approved >= _in) {\n",
        " 5             balance_in += _in;\n",
        " 6             _approved -= _in;\n",
        " 7         }\n",
        " 8         // { else revert(); }\n",
        " 9 \n",
        "10         balance_out -= _out;\n",
        "11     }\n",
        "12     \n",
        "13     assert(balance_in + balance_out >= 200);\n",
        "```\n",
        "\n",
        "Note that this code has two conditional jumps (corresponding to branches in lines 3 and 4), it updates memory by assigning values to variables (`_approved` in line 6, `balance_out` in lines 1, 10, etc.), and it ends with an `ASSERT` (and, then, optionally, `STOP`).\n",
        "To store variables in memory, you can choose arbitrary slots indices, e.g., `PUSH(bal_in), PUSH(0), MSTORE()` will put the value of `bal_in` in memory slot 0."
      ],
      "metadata": {
        "id": "uvBSuAIs7Lcm"
      }
    },
    {
      "cell_type": "code",
      "source": [
        "s_in = Int('in')\n",
        "s_out = Int('out')\n",
        "s_appr = Int('appr')\n",
        "\n",
        "bal_in = IntVal('100')\n",
        "bal_out = IntVal('100')\n",
        "\n",
        "m = Opt_SymCond([\n",
        "    # (Line 1) uint balance_in = 100;\n",
        "    # uint balance_out = 100;\n",
        "\n",
        "    # (Line 3) if (_in >= _out && _out <= balance_out) {\n",
        "    # If the condition isn't satisfied, JUMP to the instruction corresponding\n",
        "    # to line 13 in the above code, i.e., the assertion \n",
        "    # If it holds — continue with\n",
        "    # (Line 4) if (_approved >= _in) {\n",
        "    # If the condition isn't satisfied, JUMP to the instruction corresponding\n",
        "    # to line 10\n",
        "    # If it holds — continue with\n",
        "    # (Line 5) balance_in += _in;\n",
        "    # (Line 6) _approved -= _in;\n",
        "\n",
        "    # (Line 11) balance_out -= _out;\n",
        "\n",
        "    # (Line 14) ASSERT NOT (balance_in + balance_out >= 200);\n",
        "    ])\n",
        "  \n",
        "m.run()"
      ],
      "metadata": {
        "id": "1CCHujMO6rzy"
      },
      "execution_count": null,
      "outputs": []
    },
    {
      "cell_type": "code",
      "source": [
        "#@title Task 10 Solution\n",
        "\n",
        "s_in = Int('in')\n",
        "s_out = Int('out')\n",
        "s_appr = Int('appr')\n",
        "\n",
        "bal_in = IntVal('100')\n",
        "bal_out = IntVal('100')\n",
        "\n",
        "m = Opt_SymCond([\n",
        "    # (Line 1) uint balance_in = 100; uint balance_out = 100;\n",
        "    PUSH(bal_in), PUSH(0), MSTORE(),    \n",
        "    PUSH(bal_out), PUSH(1), MSTORE(),\n",
        "    # (Line 3) if (_in >= _out && _out <= balance_out) {\n",
        "    PUSH(s_out), PUSH(s_in), GTE(), PUSH(1), MLOAD(), PUSH(s_out), LTE(), AND(),\n",
        "    # If the condition isn't satisfied, we jump to line 13\n",
        "    PUSH(38),\n",
        "    JUMPI(), # 15\n",
        "    # (Line 4) if (_approved >= _in) {\n",
        "    PUSH(s_in), PUSH(s_appr), GTE(),\n",
        "    PUSH(32),\n",
        "    JUMPI(), # 20\n",
        "    # (Line 5) balance_in += _in;\n",
        "    PUSH(0), MLOAD(), PUSH(s_in), ADD(), PUSH(0), MSTORE(),\n",
        "\n",
        "    # (Line 6) _approved -= _in;\n",
        "    PUSH(s_appr), PUSH(s_in), SUB(), PUSH(3), MSTORE(), # 31\n",
        "  \n",
        "    # (Line 11) balance_out -= _out;\n",
        "    PUSH(s_out), PUSH(1), MLOAD(), SUB(), PUSH(1), MSTORE(), # MSTORE() is instruction #35\n",
        "\n",
        "    # (Line 14) ASSERT NOT (balance_in + balance_out >= 200);\n",
        "    PUSH(0), MLOAD(), PUSH(1), MLOAD(), ADD(),\n",
        "    PUSH(200), LTE(), NOT(), ASSERT()\n",
        "    ])\n",
        "  \n",
        "m.run()"
      ],
      "metadata": {
        "id": "iQ11OApW2Euv",
        "cellView": "form"
      },
      "execution_count": null,
      "outputs": []
    },
    {
      "cell_type": "markdown",
      "source": [
        "#### Modeling `uints` using BitVectors\n",
        "\n",
        "If you code works correctly, Z3 should find similar concrete values leading to the assertion violation as before. However, if you recall Exercise 1, Manticore reported other vulnerable paths where the violation was caused by **integer overflow**. We don't get those when running our tool—that is caused by using (unbounded and signed) Z3 integers that do not have the same semantics as unsigned integers in EVM and, in particular, do not overflow. \n",
        "\n",
        "As a final step of our exercise, we can make our tool more practical by using the `BitVec` sort of Z3 to model variables of `uint` type during symbolic execution. The function `BitVec('x', 256)` creates a bit-vector variable in Z3 called `x` with 256 bits. Similar to other sorts, the function `BitVecVal(10, 256)` creates a bitvector of size 256 containing the value 10. Note that operations on large bitvectors (such as 256) may cause scalability issues—in this example, you can experiment with various sizes (8, 16, 32, 64, 128, 256) and observe the effect they have on the execution speed. To make visual analysis of results easier, we can start by using bitvectors of size 8.\n",
        "\n",
        "Z3 also provides *unsigned* versions of arithmetical operations we have used previously. In Z3Py, the operators `<`, `<=`, `>`, `>=`, `/`, `%` and `>>` correspond to the signed versions. The corresponding unsigned operators are `ULT`, `ULE`, `UGT`, `UGE`, `UDiv`, `URem` and `LShR`.\n"
      ],
      "metadata": {
        "id": "2tLtztBHH-lr"
      }
    },
    {
      "cell_type": "markdown",
      "source": [
        "**Task 11**: Substitute sort `Int` with `BitVec` of size **8** (or another) in the symbolic machine implementation and `deposit` opcodes. Instead of signed operators `<=` and `>=`, use their unsigned counterparts `ULE` and `UGE`. You can add separate instructions (opcodes) for them in the machine implementation or simply change the Z3 operator that is being used when `LTE()` or `GTE()` is executed.\n",
        "\n",
        "*Hint*: the `memory` array should now store values of bitvector sort (`BitVecSort(8)`)."
      ],
      "metadata": {
        "id": "G0TrD-hS658d"
      }
    },
    {
      "cell_type": "code",
      "source": [
        "@dataclass\n",
        "class MachineContext:\n",
        "    pc: int\n",
        "    stack: any\n",
        "    memory: any\n",
        "    constraints: any\n",
        "        \n",
        "    def __copy__(self):\n",
        "        return MachineContext(\n",
        "            pc=self.pc,\n",
        "            stack=self.stack.copy(),\n",
        "            memory=self.memory,\n",
        "            constraints=copy.copy(self.constraints)\n",
        "        )\n",
        "      \n",
        "\n",
        "class BV_SymCond:\n",
        "    def __init__(self, code):\n",
        "        self.code = code\n",
        "        \n",
        "        self.machines = [\n",
        "            MachineContext(\n",
        "                pc=0, \n",
        "                stack=[], \n",
        "                # (1) Update the Sort of values stored in memory\n",
        "                memory=Array('memory', IntSort(), ...), \n",
        "                constraints=Solver()\n",
        "            )\n",
        "        ]\n",
        "        \n",
        "    def step(self, machine):\n",
        "        instruction = self.code[machine.pc]\n",
        "        if instruction == JUMPI():\n",
        "            dest = machine.stack.pop()\n",
        "            assert isinstance(dest, int), 'JUMPI: requires concrete destination'\n",
        "            cond = machine.stack.pop()\n",
        "            \n",
        "            other_machine = copy.copy(machine)\n",
        "            \n",
        "            other_machine.pc = dest\n",
        "            other_machine.constraints.append(Not(cond))\n",
        "            \n",
        "            machine.pc = machine.pc + 1\n",
        "            machine.constraints.append(cond)\n",
        "            \n",
        "            if machine.constraints.check() == unsat:\n",
        "                self.machines.remove(machine)\n",
        "            \n",
        "            if other_machine.constraints.check() == sat:\n",
        "                self.machines.append(other_machine)\n",
        "\n",
        "            return        \n",
        "\n",
        "        machine.pc += 1\n",
        "        if instruction == ADD():\n",
        "                machine.stack.append(machine.stack.pop() + machine.stack.pop())\n",
        "        elif instruction == SUB():\n",
        "                machine.stack.append(machine.stack.pop() - machine.stack.pop())\n",
        "        elif instruction == LTE():\n",
        "                # (2) Use unsigned operator for <= \n",
        "                machine.stack.append(...)\n",
        "        elif instruction == GTE():\n",
        "                # (3) Use unsigned operator for >= \n",
        "                machine.stack.append(...)\n",
        "        elif instruction == AND():\n",
        "                machine.stack.append(And(machine.stack.pop(), machine.stack.pop()))\n",
        "        elif instruction == NOT():\n",
        "                machine.stack.append(Not(machine.stack.pop()))\n",
        "        elif instruction == ASSERT():\n",
        "                machine.constraints.add(machine.stack[-1])\n",
        "        elif instruction == MLOAD():\n",
        "              idx = machine.stack.pop()\n",
        "              assert isinstance(idx, int), 'MLOAD: requires concrete index'\n",
        "              machine.stack.append(machine.memory[idx])\n",
        "        elif instruction == MSTORE():\n",
        "                idx = machine.stack.pop()\n",
        "                val = machine.stack.pop()\n",
        "                machine.memory = Store(machine.memory, idx, val)\n",
        "        elif instruction == STOP():\n",
        "                machine.pc = len(self.code)\n",
        "        elif instruction == PUSH(n=instruction.n):\n",
        "                machine.stack.append(instruction.n)\n",
        "        else:\n",
        "                assert False\n",
        "\n",
        "    def choose_machine(self):\n",
        "        machine = None\n",
        "        \n",
        "        for m in self.machines:\n",
        "            if m.pc < len(self.code):\n",
        "                machine = m\n",
        "                break\n",
        "                \n",
        "        return machine        \n",
        "\n",
        "    def run(self):\n",
        "        machine = self.choose_machine()\n",
        "        \n",
        "        while machine:\n",
        "            self.step(machine)\n",
        "            machine = self.choose_machine()            \n",
        "        \n",
        "        for m in self.machines:\n",
        "          if m.constraints.check() == sat:\n",
        "              print('Constraints are satisfiable, assert can be violated')\n",
        "              model = m.constraints.model()\n",
        "              print(model)\n",
        "          else:\n",
        "              print('Constraints are not satisfiable, assert can\\'t be violated')            "
      ],
      "metadata": {
        "id": "Ek7XQnSv8RBO"
      },
      "execution_count": null,
      "outputs": []
    },
    {
      "cell_type": "code",
      "source": [
        "s_in = # (1) Update the Sort of symbolic (uint) variables\n",
        "s_out = \n",
        "s_appr = \n",
        "\n",
        "bal_in =  # (2) Update the Sort of (uint constants)\n",
        "bal_out = \n",
        "\n",
        "m = BV_SymCond([\n",
        "    # (Line 1) uint balance_in = 100; uint balance_out = 100;\n",
        "    PUSH(bal_in), PUSH(0), MSTORE(),    \n",
        "    PUSH(bal_out), PUSH(1), MSTORE(),\n",
        "    # (Line 3) if (_in >= _out && _out <= balance_out) {\n",
        "    PUSH(s_out), PUSH(s_in), GTE(), PUSH(1), MLOAD(), PUSH(s_out), LTE(), AND(),\n",
        "    # If the condition isn't satisfied, we jump to line 13\n",
        "    PUSH(38),\n",
        "    JUMPI(), # 15\n",
        "    # (Line 4) if (_approved >= _in) {\n",
        "    PUSH(s_in), PUSH(s_appr), GTE(),\n",
        "    PUSH(32),\n",
        "    JUMPI(), # 20\n",
        "    # (Line 5) balance_in += _in;\n",
        "    PUSH(0), MLOAD(), PUSH(s_in), ADD(), PUSH(0), MSTORE(),\n",
        "\n",
        "    # (Line 6) _approved -= _in;\n",
        "    PUSH(s_appr), PUSH(s_in), SUB(), PUSH(3), MSTORE(), # 31\n",
        "  \n",
        "    # (Line 11) balance_out -= _out;\n",
        "    PUSH(s_out), PUSH(1), MLOAD(), SUB(), PUSH(1), MSTORE(), # MSTORE() is instruction #35\n",
        "\n",
        "    # (Line 14) ASSERT NOT (balance_in + balance_out >= 200);\n",
        "    PUSH(0), MLOAD(), PUSH(1), MLOAD(), ADD(),\n",
        "    PUSH(200), LTE(), NOT(), ASSERT(),\n",
        "    ])\n",
        "\n",
        "m.run()"
      ],
      "metadata": {
        "id": "uJND94Z_AsAK"
      },
      "execution_count": null,
      "outputs": []
    },
    {
      "cell_type": "code",
      "source": [
        "#@title Task 11 Solution — Machine Implementation\n",
        "@dataclass\n",
        "class MachineContext:\n",
        "    pc: int\n",
        "    stack: any\n",
        "    memory: any\n",
        "    constraints: any\n",
        "        \n",
        "    def __copy__(self):\n",
        "        return MachineContext(\n",
        "            pc=self.pc,\n",
        "            stack=self.stack.copy(),\n",
        "            memory=self.memory,\n",
        "            constraints=copy.copy(self.constraints)\n",
        "        )\n",
        "      \n",
        "\n",
        "class BV_SymCond:\n",
        "    def __init__(self, code):\n",
        "        self.code = code\n",
        "        \n",
        "        self.machines = [\n",
        "            MachineContext(\n",
        "                pc=0, \n",
        "                stack=[], \n",
        "                memory=Array('memory', IntSort(), BitVecSort(8)), \n",
        "                constraints=Solver()\n",
        "            )\n",
        "        ]\n",
        "        \n",
        "    def step(self, machine):\n",
        "        instruction = self.code[machine.pc]\n",
        "        if instruction == JUMPI():\n",
        "            dest = machine.stack.pop()\n",
        "            assert isinstance(dest, int), 'JUMPI: requires concrete destination'\n",
        "            cond = machine.stack.pop()\n",
        "            \n",
        "            other_machine = copy.copy(machine)\n",
        "            \n",
        "            other_machine.pc = dest\n",
        "            other_machine.constraints.append(Not(cond))\n",
        "            \n",
        "            machine.pc = machine.pc + 1\n",
        "            machine.constraints.append(cond)\n",
        "            \n",
        "            if machine.constraints.check() == unsat:\n",
        "                self.machines.remove(machine)\n",
        "            \n",
        "            if other_machine.constraints.check() == sat:\n",
        "                self.machines.append(other_machine)\n",
        "\n",
        "            return        \n",
        "\n",
        "        machine.pc += 1\n",
        "        if instruction == ADD():\n",
        "                machine.stack.append(machine.stack.pop() + machine.stack.pop())\n",
        "        elif instruction == SUB():\n",
        "                machine.stack.append(machine.stack.pop() - machine.stack.pop())\n",
        "        elif instruction == LTE():\n",
        "                machine.stack.append(ULE(machine.stack.pop(), machine.stack.pop()))\n",
        "        elif instruction == GTE():\n",
        "                machine.stack.append(UGE(machine.stack.pop(), machine.stack.pop()))\n",
        "        elif instruction == AND():\n",
        "                machine.stack.append(And(machine.stack.pop(), machine.stack.pop()))\n",
        "        elif instruction == NOT():\n",
        "                machine.stack.append(Not(machine.stack.pop()))\n",
        "        elif instruction == ASSERT():\n",
        "                machine.constraints.add(machine.stack[-1])\n",
        "        elif instruction == MLOAD():\n",
        "              idx = machine.stack.pop()\n",
        "              assert isinstance(idx, int), 'MLOAD: requires concrete index'\n",
        "              machine.stack.append(machine.memory[idx])\n",
        "        elif instruction == MSTORE():\n",
        "                idx = machine.stack.pop()\n",
        "                val = machine.stack.pop()\n",
        "                machine.memory = Store(machine.memory, idx, val)\n",
        "        elif instruction == STOP():\n",
        "                machine.pc = len(self.code)\n",
        "        elif instruction == PUSH(n=instruction.n):\n",
        "                machine.stack.append(instruction.n)\n",
        "        else:\n",
        "                assert False\n",
        "\n",
        "    def choose_machine(self):\n",
        "        machine = None\n",
        "        \n",
        "        for m in self.machines:\n",
        "            if m.pc < len(self.code):\n",
        "                machine = m\n",
        "                break\n",
        "                \n",
        "        return machine        \n",
        "\n",
        "    def run(self):\n",
        "        machine = self.choose_machine()\n",
        "        \n",
        "        while machine:\n",
        "            self.step(machine)\n",
        "            machine = self.choose_machine()            \n",
        "        \n",
        "        for m in self.machines:\n",
        "          if m.constraints.check() == sat:\n",
        "              print('Constraints are satisfiable, assert can be violated')\n",
        "              model = m.constraints.model()\n",
        "              print(model)\n",
        "          else:\n",
        "              print('Constraints are not satisfiable, assert can\\'t be violated')            "
      ],
      "metadata": {
        "id": "Wyo2weBX9KSv",
        "cellView": "form"
      },
      "execution_count": null,
      "outputs": []
    },
    {
      "cell_type": "code",
      "source": [
        "#@title Task 11 Solution — `Deposit` code\n",
        "\n",
        "s_in = BitVec('in', 8)\n",
        "s_out = BitVec('out', 8)\n",
        "s_appr = BitVec('appr', 8)\n",
        "\n",
        "bal_in = BitVecVal('100', 8)\n",
        "bal_out = BitVecVal('100', 8)\n",
        "\n",
        "m = BV_SymCond([\n",
        "    # (Line 1) uint balance_in = 100; uint balance_out = 100;\n",
        "    PUSH(bal_in), PUSH(0), MSTORE(),    \n",
        "    PUSH(bal_out), PUSH(1), MSTORE(),\n",
        "    # (Line 3) if (_in >= _out && _out <= balance_out) {\n",
        "    PUSH(s_out), PUSH(s_in), GTE(), PUSH(1), MLOAD(), PUSH(s_out), LTE(), AND(),\n",
        "    # If the condition isn't satisfied, we jump to line 13\n",
        "    PUSH(38),\n",
        "    JUMPI(), # 15\n",
        "    # (Line 4) if (_approved >= _in) {\n",
        "    PUSH(s_in), PUSH(s_appr), GTE(),\n",
        "    PUSH(32),\n",
        "    JUMPI(), # 20\n",
        "    # (Line 5) balance_in += _in;\n",
        "    PUSH(0), MLOAD(), PUSH(s_in), ADD(), PUSH(0), MSTORE(),\n",
        "\n",
        "    # (Line 6) _approved -= _in;\n",
        "    PUSH(s_appr), PUSH(s_in), SUB(), PUSH(3), MSTORE(), # 31\n",
        "  \n",
        "    # (Line 11) balance_out -= _out;\n",
        "    PUSH(s_out), PUSH(1), MLOAD(), SUB(), PUSH(1), MSTORE(), # MSTORE() is instruction #35\n",
        "\n",
        "    # (Line 14) ASSERT NOT (balance_in + balance_out >= 200);\n",
        "    PUSH(0), MLOAD(), PUSH(1), MLOAD(), ADD(),\n",
        "    PUSH(200), LTE(), NOT(), ASSERT(),\n",
        "    STOP()\n",
        "    ])\n",
        "\n",
        "m.run()"
      ],
      "metadata": {
        "colab": {
          "base_uri": "https://localhost:8080/"
        },
        "id": "uvJU0Wq8P6dy",
        "outputId": "07c05e55-93aa-41cf-f0d7-50ac6d204f9b",
        "cellView": "form"
      },
      "execution_count": null,
      "outputs": [
        {
          "output_type": "stream",
          "name": "stdout",
          "text": [
            "Constraints are satisfiable, assert can be violated\n",
            "[in = 139, appr = 192, out = 80]\n",
            "Constraints are not satisfiable, assert can't be violated\n",
            "Constraints are satisfiable, assert can be violated\n",
            "[in = 33, appr = 0, out = 2]\n"
          ]
        }
      ]
    },
    {
      "cell_type": "markdown",
      "source": [
        "As you may notice, our tool now finds two vulnerable paths, with the first being caused by an overflow. If the value of `in` is too big, `balance_in + in` cannot fit in the bitvector (or an unsigned integer) without overflowing, and the assertion gets violated. You may check what happens if you try to put too big of a value in a bitvector below (note that the maximum value a bitvector of size 8 can store is 255)."
      ],
      "metadata": {
        "id": "D3REUqoCAh1g"
      }
    },
    {
      "cell_type": "code",
      "source": [
        "i = BitVecVal('259', 8)\n",
        "i"
      ],
      "metadata": {
        "colab": {
          "base_uri": "https://localhost:8080/",
          "height": 34
        },
        "id": "FVsOjhD6NdWd",
        "outputId": "7b5bbd39-f214-4d11-e822-d8d5e4bd4782"
      },
      "execution_count": null,
      "outputs": [
        {
          "output_type": "execute_result",
          "data": {
            "text/plain": [
              "3"
            ],
            "text/html": [
              "3"
            ]
          },
          "metadata": {},
          "execution_count": 107
        }
      ]
    },
    {
      "cell_type": "markdown",
      "source": [
        "Similar to Exercise 1, one of the vulnerable paths is, again, due to an integer overflow that can occur when we sum `balance_in` and `balance_out` at the end of the execution.\n",
        "If we assume that this operation is not part of the analyzed smart contract key functionality, we can add an additional \"no-overflow\" constraint to the assertion. Same as in Exercise 1, our final condition will consist of two parts: *the sum of balances is less than 200 AND no overflow occured during the (balance_in + balance_out) operation*. In the absence of integer overflow, the following condition should hold: *the result of a sum is greater than or equal (`UGT`) to the first operand*.\n",
        "\n",
        "**Task 12**: update the asserted condition to reflect the \"no-overflow\" constraint."
      ],
      "metadata": {
        "id": "aaVV7VeGPl-1"
      }
    },
    {
      "cell_type": "code",
      "source": [
        "\"s_in = BitVec('in', 8)\n",
        "s_out = BitVec('out', 8)\n",
        "s_appr = BitVec('appr', 8)\n",
        "\n",
        "bal_in = BitVecVal('100', 8)\n",
        "bal_out = BitVecVal('100', 8)\n",
        "\n",
        "s_in = BitVec('in', 8)\n",
        "s_out = BitVec('out', 8)\n",
        "s_appr = BitVec('appr', 8)\n",
        "\n",
        "bal_in = BitVecVal('100', 8)\n",
        "bal_out = BitVecVal('100', 8)\n",
        "\n",
        "m = BV_SymCond([\n",
        "    # (Line 1) uint balance_in = 100; uint balance_out = 100;\n",
        "    PUSH(bal_in), PUSH(0), MSTORE(),    \n",
        "    PUSH(bal_out), PUSH(1), MSTORE(),\n",
        "    # (Line 3) if (_in >= _out && _out <= balance_out) {\n",
        "    PUSH(s_out), PUSH(s_in), GTE(), PUSH(1), MLOAD(), PUSH(s_out), LTE(), AND(),\n",
        "    # If the condition isn't satisfied, we jump to line 13\n",
        "    PUSH(38),\n",
        "    JUMPI(), # 15\n",
        "    # (Line 4) if (_approved >= _in) {\n",
        "    PUSH(s_in), PUSH(s_appr), GTE(),\n",
        "    PUSH(32),\n",
        "    JUMPI(), # 20\n",
        "    # (Line 5) balance_in += _in;\n",
        "    PUSH(0), MLOAD(), PUSH(s_in), ADD(), PUSH(0), MSTORE(),\n",
        "\n",
        "    # (Line 6) _approved -= _in;\n",
        "    PUSH(s_appr), PUSH(s_in), SUB(), PUSH(3), MSTORE(), # 31\n",
        "  \n",
        "    # (Line 11) balance_out -= _out;\n",
        "    PUSH(s_out), PUSH(1), MLOAD(), SUB(), PUSH(1), MSTORE(), # MSTORE() is instruction #35\n",
        "\n",
        "    # (Line 14) NOT (balance_in + balance_out >= 200);\n",
        "    PUSH(0), MLOAD(), PUSH(1), MLOAD(), ADD(),\n",
        "    PUSH(200), LTE(), NOT(),\n",
        "\n",
        "    # TODO: (1) Add:\n",
        "    # AND balance_in <= (balance_in + balance_out)\n",
        "    ...\n",
        "    ASSERT(),\n",
        "    ])\n",
        "\n",
        "m.run()"
      ],
      "metadata": {
        "id": "-Pgo-PAmDTB1"
      },
      "execution_count": null,
      "outputs": []
    },
    {
      "cell_type": "code",
      "source": [
        "#@title Task 12 Solution\n",
        "\n",
        "s_in = BitVec('in', 8)\n",
        "s_out = BitVec('out', 8)\n",
        "s_appr = BitVec('appr', 8)\n",
        "\n",
        "bal_in = BitVecVal('100', 8)\n",
        "bal_out = BitVecVal('100', 8)\n",
        "\n",
        "\n",
        "s_in = BitVec('in', 8)\n",
        "s_out = BitVec('out', 8)\n",
        "s_appr = BitVec('appr', 8)\n",
        "\n",
        "bal_in = BitVecVal('100', 8)\n",
        "bal_out = BitVecVal('100', 8)\n",
        "\n",
        "m = BV_SymCond([\n",
        "    # (Line 1) uint balance_in = 100; uint balance_out = 100;\n",
        "    PUSH(bal_in), PUSH(0), MSTORE(),    \n",
        "    PUSH(bal_out), PUSH(1), MSTORE(),\n",
        "    # (Line 3) if (_in >= _out && _out <= balance_out) {\n",
        "    PUSH(s_out), PUSH(s_in), GTE(), PUSH(1), MLOAD(), PUSH(s_out), LTE(), AND(),\n",
        "    # If the condition isn't satisfied, we jump to line 13\n",
        "    PUSH(38),\n",
        "    JUMPI(), # 15\n",
        "  # (Line 4) if (_approved >= _in) {\n",
        "    PUSH(s_in), PUSH(s_appr), GTE(),\n",
        "    PUSH(32),\n",
        "    JUMPI(), # 20\n",
        "    # (Line 5) balance_in += _in;\n",
        "    PUSH(0), MLOAD(), PUSH(s_in), ADD(), PUSH(0), MSTORE(),\n",
        "\n",
        "    # (Line 6) _approved -= _in;\n",
        "    PUSH(s_appr), PUSH(s_in), SUB(), PUSH(3), MSTORE(), # 31\n",
        "  \n",
        "    # (Line 11) balance_out -= _out;\n",
        "    PUSH(s_out), PUSH(1), MLOAD(), SUB(), PUSH(1), MSTORE(), # MSTORE() is instruction #35\n",
        "\n",
        "    # (Line 14) ASSERT NOT (balance_in + balance_out >= 200);\n",
        "    PUSH(0), MLOAD(), PUSH(1), MLOAD(), ADD(),\n",
        "    PUSH(200), LTE(), NOT(),\n",
        "\n",
        "    # TODO: (1) Add:\n",
        "    # AND balance_in <= (balance_in + balance_out)\n",
        "    PUSH(0), MLOAD(), PUSH(1), MLOAD(), ADD(),\n",
        "    PUSH(0), MLOAD(), LTE(),\n",
        "    AND(),\n",
        "    ASSERT(),\n",
        "    ])\n",
        "\n",
        "m.run()"
      ],
      "metadata": {
        "colab": {
          "base_uri": "https://localhost:8080/"
        },
        "id": "71_TdS0LN3NF",
        "outputId": "5a74bda5-8a9f-44a7-befe-62794b89dde0",
        "cellView": "form"
      },
      "execution_count": null,
      "outputs": [
        {
          "output_type": "stream",
          "name": "stdout",
          "text": [
            "Constraints are satisfiable, assert can be violated\n",
            "[in = 210, appr = 216, out = 22]\n",
            "Constraints are not satisfiable, assert can't be violated\n",
            "Constraints are satisfiable, assert can be violated\n",
            "[in = 161, appr = 0, out = 70]\n"
          ]
        }
      ]
    },
    {
      "cell_type": "markdown",
      "source": [
        "As you notice, the vulnerable path caused by an overflow is still present—in fact, it happens in the statement `balance_in += _in`.\n",
        "As our final task in this exercise, let's update the code of `deposit` by inserting a overflow protection to this statement.\n",
        "\n",
        "**Task 13**: update the opcode of the `deposit` function by adding an additional overflow check *before* `balance_in += _in` (you can add it after the statement execution too, but in this case you'll have to also reverse this memory update if the check fails).\n",
        "The execution of the function should then jump right to the `assert` checking."
      ],
      "metadata": {
        "id": "ng3wmf_jDyXE"
      }
    },
    {
      "cell_type": "code",
      "source": [
        "s_in = BitVec('in', 8)\n",
        "s_out = BitVec('out', 8)\n",
        "s_appr = BitVec('appr', 8)\n",
        "\n",
        "bal_in = BitVecVal('100', 8)\n",
        "bal_out = BitVecVal('100', 8)\n",
        "\n",
        "m = BV_SymCond([\n",
        "    # (Line 1) uint balance_in = 100; uint balance_out = 100;\n",
        "    PUSH(bal_in), PUSH(0), MSTORE(),    \n",
        "    PUSH(bal_out), PUSH(1), MSTORE(),\n",
        "    # (Line 3) if (_in >= _out && _out <= balance_out) {\n",
        "    PUSH(s_out), PUSH(s_in), GTE(), PUSH(1), MLOAD(), PUSH(s_out), LTE(), AND(),\n",
        "    # If the condition isn't satisfied, we jump to line 13\n",
        "    PUSH(47),\n",
        "    JUMPI(), # 15\n",
        "    # (Line 4) if (_approved >= _in) {\n",
        "    PUSH(s_in), PUSH(s_appr), GTE(),\n",
        "    PUSH(41),\n",
        "    JUMPI(), # 20\n",
        "    # (Line 5) balance_in += _in;\n",
        "\n",
        "    # TODO: (1) add the overflow check:\n",
        "    # (balances_in + _in) <= balances_in\n",
        "    # If condition is not satisfied: jump to line 13, i.e., assert\n",
        "    # Else — continue with the memory update\n",
        "    \n",
        "    # (Line 6) _approved -= _in;\n",
        "    PUSH(s_appr), PUSH(s_in), SUB(), PUSH(3), MSTORE(), # 40\n",
        "  \n",
        "    # (Line 11) balance_out -= _out;\n",
        "    PUSH(s_out), PUSH(1), MLOAD(), SUB(), PUSH(1), MSTORE(), # MSTORE() is instruction #46\n",
        "\n",
        "    # (Line 14) ASSERT NOT (balance_in + balance_out >= 200)\n",
        "    # AND (balance_in <= balance_in + balance_out)\n",
        "    PUSH(0), MLOAD(), PUSH(1), MLOAD(), ADD(),\n",
        "    PUSH(200), LTE(), NOT(),\n",
        "    PUSH(0), MLOAD(), PUSH(1), MLOAD(), ADD(),\n",
        "    PUSH(0), MLOAD(), LTE(),\n",
        "    AND(),\n",
        "    ASSERT(),\n",
        "    ])\n",
        "\n",
        "m.run()"
      ],
      "metadata": {
        "id": "tzoURZ29DwAs"
      },
      "execution_count": null,
      "outputs": []
    },
    {
      "cell_type": "code",
      "source": [
        "#@title Task 13 Solution\n",
        "\n",
        "s_in = BitVec('in', 8)\n",
        "s_out = BitVec('out', 8)\n",
        "s_appr = BitVec('appr', 8)\n",
        "\n",
        "bal_in = BitVecVal('100', 8)\n",
        "bal_out = BitVecVal('100', 8)\n",
        "\n",
        "m = BV_SymCond([\n",
        "    # (Line 1) uint balance_in = 100; uint balance_out = 100;\n",
        "    PUSH(bal_in), PUSH(0), MSTORE(),    \n",
        "    PUSH(bal_out), PUSH(1), MSTORE(),\n",
        "    # (Line 3) if (_in >= _out && _out <= balance_out) {\n",
        "    PUSH(s_out), PUSH(s_in), GTE(), PUSH(1), MLOAD(), PUSH(s_out), LTE(), AND(),\n",
        "    # If the condition isn't satisfied, we jump to line 13\n",
        "    PUSH(47),\n",
        "    JUMPI(), # 15\n",
        "    # (Line 4) if (_approved >= _in) {\n",
        "    PUSH(s_in), PUSH(s_appr), GTE(),\n",
        "    PUSH(41),\n",
        "    JUMPI(), # 20\n",
        "    # (Line 5) balance_in += _in;\n",
        "    # And the overflow check:\n",
        "    # (balances_in + _in) <= balances_in\n",
        "    PUSH(0), MLOAD(), PUSH(s_in), ADD(), PUSH(0), MLOAD(), LTE(),\n",
        "    # If condition is not satisfied: jump to line 13, i.e., assert\n",
        "    PUSH(47),\n",
        "    JUMPI(),\n",
        "    # Else — continue with the memory update\n",
        "    PUSH(0), MLOAD(), PUSH(s_in), ADD(), PUSH(0), MSTORE(),\n",
        "\n",
        "    # (Line 6) _approved -= _in;\n",
        "    PUSH(s_appr), PUSH(s_in), SUB(), PUSH(3), MSTORE(), # 40\n",
        "  \n",
        "    # (Line 11) balance_out -= _out;\n",
        "    PUSH(s_out), PUSH(1), MLOAD(), SUB(), PUSH(1), MSTORE(), # MSTORE() is instruction #46\n",
        "\n",
        "    # (Line 14) ASSERT NOT (balance_in + balance_out >= 200)\n",
        "    # AND (balance_in <= balance_in + balance_out)\n",
        "    PUSH(0), MLOAD(), PUSH(1), MLOAD(), ADD(),\n",
        "    PUSH(200), LTE(), NOT(),\n",
        "    PUSH(0), MLOAD(), PUSH(1), MLOAD(), ADD(),\n",
        "    PUSH(0), MLOAD(), LTE(),\n",
        "    AND(),\n",
        "    ASSERT(),\n",
        "    ])\n",
        "\n",
        "m.run()"
      ],
      "metadata": {
        "colab": {
          "base_uri": "https://localhost:8080/"
        },
        "id": "sH2Ewo5eFiyv",
        "outputId": "cce65631-ebb4-40ba-f625-8f04d295ee88",
        "cellView": "form"
      },
      "execution_count": null,
      "outputs": [
        {
          "output_type": "stream",
          "name": "stdout",
          "text": [
            "Constraints are not satisfiable, assert can't be violated\n",
            "Constraints are not satisfiable, assert can't be violated\n",
            "Constraints are satisfiable, assert can be violated\n",
            "[in = 161, appr = 0, out = 70]\n",
            "Constraints are not satisfiable, assert can't be violated\n"
          ]
        }
      ]
    },
    {
      "cell_type": "markdown",
      "source": [
        "Now the only vulnerable path being reported indeed corresponds to the case when the user \"sends in\" a sufficient amount of `in` tokens but does not approve enough of them to be transferred to the contract.\n"
      ],
      "metadata": {
        "id": "uzTnS-10HuBD"
      }
    },
    {
      "cell_type": "markdown",
      "source": [
        "### Additional Exercises \n",
        "Note that in this exercise we intentionally limited the number of EVM opcode used to make it less heavy on the EVM internals. However, the list of opcodes and an interactive playground can be found on the [evm.codes](https://www.evm.codes/) website. We leave optimizing the opcode representation we've used throughout the exercise to you.\n",
        "\n",
        "As another exercise, you can also develop a similar symbolic execution tool with operational semantics for a high-level smart contract language such as Solidity or Vyper."
      ],
      "metadata": {
        "id": "A34POdRDAoVe"
      }
    },
    {
      "cell_type": "markdown",
      "source": [
        "## References\n",
        "- Philip Zucker's \"Z3 Tutorial\" https://colab.research.google.com/github/philzook58/z3_tutorial/blob/master/Z3%20Tutorial.ipynb\n",
        "- William Berman's \"EVM Symbolic Execution\" https://github.com/williamberman/evm-symbolic-execution/blob/master/EVM%20Symbolic%20Execution.ipynb\n",
        "- rise4fun https://rise4fun.com/z3/tutorialcontent/guide\n",
        "- https://ericpony.github.io/z3py-tutorial/guide-examples.htm\n",
        "- Programming Z3 - https://theory.stanford.edu/~nikolaj/programmingz3.html\n",
        "- Nikolaj Bjorner's tutorial https://youtu.be/nGwyNmsxX6I\n",
        "- Hakank's examples http://www.hakank.org/z3/\n",
        "- Yurichev's book \"SMT by Example\" https://yurichev.com/writings/SAT_SMT_by_example.pdf\n",
        "- http://hackage.haskell.org/package/sbv\n",
        "- https://www.youtube.com/watch?v=ruNFcH-KibY Tikhon Jelvis - Analyzing Programs with Z3\n",
        "- https://www.youtube.com/watch?v=rvPWDgJc0O4&ab_channel=ACMSIGPLAN - Nadia Polykarpova on Z3\n",
        "- SAT SMT school https://sat-smt.in/\n",
        "- Emina Torlak's course https://courses.cs.washington.edu/courses/cse507/19au/calendar.html\n",
        "- Lindsey Kuper - SMT Solving and Solver-Aided Systems http://composition.al/CSE290Q-2019-09/\n",
        "- http://www.sc-square.org/CSA/school/lectures.html"
      ],
      "metadata": {
        "id": "J7UgP77BsCBH"
      }
    }
  ]
}
