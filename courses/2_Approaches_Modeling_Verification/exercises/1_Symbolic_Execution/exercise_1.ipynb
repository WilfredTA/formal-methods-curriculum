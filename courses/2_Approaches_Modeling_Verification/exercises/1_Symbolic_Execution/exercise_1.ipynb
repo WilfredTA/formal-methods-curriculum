{
  "nbformat": 4,
  "nbformat_minor": 0,
  "metadata": {
    "colab": {
      "name": "Course 2:  Symbolic Execution — Exercise 1.ipynb",
      "provenance": [],
      "collapsed_sections": []
    },
    "kernelspec": {
      "name": "python3",
      "display_name": "Python 3"
    },
    "language_info": {
      "name": "python"
    }
  },
  "cells": [
    {
      "cell_type": "markdown",
      "source": [
        "## Course 2:  Symbolic Execution\n",
        "### **Exercise 1.** Practical Symbolic Execution using Manticore\n",
        "\n",
        "The purpose of this exercise is to equip you with hands-on experience of applying *existing* symbolic execution tools to analyze smart contracts.\n",
        "This exercise is based on [Manticore](https://github.com/trailofbits/manticore)—a symbolic execution engine developed in Python by [Trail of Bits](https://www.trailofbits.com/). *It is also inspired by the Manticore's own [tutorial](https://ethereum.org/en/developers/tutorials/how-to-use-manticore-to-find-smart-contract-bugs/).*\n",
        "This Jupyter notebook uses Python 3.7.\n",
        "\n",
        "#### **Installation**\n",
        "\n",
        "Manticore (and Solidity compiler solc) can be installed using `pip`."
      ],
      "metadata": {
        "id": "ypUC4gCR3yTZ"
      }
    },
    {
      "cell_type": "code",
      "execution_count": null,
      "metadata": {
        "id": "x59WzH57n31s"
      },
      "outputs": [],
      "source": [
        "!pip install \"manticore[native]\" solc-select\n",
        "!solc-select install 0.5.11\n",
        "!solc-select use 0.5.11"
      ]
    },
    {
      "cell_type": "markdown",
      "source": [
        "#### **Manticore Basics**\n",
        "\n",
        "In this exercise, we will be using Python API provided by Manticore. Using the API commands, we can write a Python script controlling the symbolic execution process. First, the script should instantiate a new blockchain `m`:"
      ],
      "metadata": {
        "id": "sp3FKogl3yob"
      }
    },
    {
      "cell_type": "code",
      "source": [
        "from manticore.ethereum import ManticoreEVM\n",
        "\n",
        "m = ManticoreEVM()"
      ],
      "metadata": {
        "id": "vQ8Y2L_V3xPT"
      },
      "execution_count": null,
      "outputs": []
    },
    {
      "cell_type": "markdown",
      "source": [
        "Now let's use Manticore to analyze the smart contract used as an example in the [symbolic execution overview](https://github.com/baolean/formal-methods-curriculum/blob/master/courses/2_Approaches_Modeling_Verification/content/1_Symbolic_Execution/symbolic_execution.md). The next cell loads smart contract's source code into the `source_code` variable:"
      ],
      "metadata": {
        "id": "9Ru5QIsB9Eu1"
      }
    },
    {
      "cell_type": "code",
      "source": [
        "source_code = \"\"\"\n",
        "contract Exchange {   \n",
        "    function deposit(uint _in, uint _out, uint _approved) public {\n",
        "        uint balance_in = 100; uint balance_out = 100;\n",
        "\n",
        "        if (_in >= _out && _out <= balance_out) {\n",
        "            if (_approved >= _in) {\n",
        "                balance_in += _in;\n",
        "                _approved -= _in;\n",
        "            }\n",
        "            \n",
        "            balance_out -= _out;\n",
        "        }\n",
        "\n",
        "        assert(balance_in + balance_out >= 200);\n",
        "   }\n",
        "}\n",
        "\"\"\""
      ],
      "metadata": {
        "id": "plGC6Ewu9Eaw"
      },
      "execution_count": null,
      "outputs": []
    },
    {
      "cell_type": "markdown",
      "source": [
        "To analyze a smart contract, it has to be deployed and, then, called via a transaction. To do so, we need to set up a regular (non-smart-contract) user account, which can be created using `m.create_account` command provided by the Manticore API. It can be called with [several parameters](https://manticore.readthedocs.io/en/latest/evm.html?highlight=create_account#manticore.ethereum.ManticoreEVM.create_account) specifying its balance, address, etc.\n",
        "\n",
        "A smart contract defined in `source_code` can be, then, deployed using `m.solidity_create_contract` function. As parameters, we'll pass the smart contract code and the owner address we have just created. Other optional parameters can be found in the [documentation](https://manticore.readthedocs.io/en/latest/evm.html?highlight=create_account#manticore.ethereum.ManticoreEVM.create_contract). The script, then, becomes:"
      ],
      "metadata": {
        "id": "vmzTskyf9z9L"
      }
    },
    {
      "cell_type": "code",
      "source": [
        "m = ManticoreEVM()\n",
        "\n",
        "user_account = m.create_account(balance=100*10**18)\n",
        "contract_account = m.solidity_create_contract(source_code, owner=user_account)"
      ],
      "metadata": {
        "id": "5pUyfntt_MJZ"
      },
      "execution_count": null,
      "outputs": []
    },
    {
      "cell_type": "markdown",
      "source": [
        "Manticore supports *raw* and *named* transactions. A *raw* transaction explores all smart contract functions—the transaction caller, data, address, or value can all be symbolic. However, in this example we will use *named* transactions which explore only one particular function, but it can do so with *symbolic* input arguments.\n",
        "\n",
        "In Manticore API, symbolic variables (normally a uint256) are created using [`m.make_symbolic_value`](https://manticore.readthedocs.io/en/latest/evm.html?highlight=create_account#manticore.ethereum.ManticoreEVM.make_symbolic_value).\n",
        "To call a function of a smart contract, run `contract_account.func_name(arguments)`.\n",
        "\n",
        "**Task 1:** declare three symbolic variables representing `_in`, `_out`, and `_approved`, and call a `deposit(_in, _out, _approved)` function with these symbolic arguments."
      ],
      "metadata": {
        "id": "hyiApwQiA6Lv"
      }
    },
    {
      "cell_type": "code",
      "source": [
        "m = ManticoreEVM()\n",
        "\n",
        "user_account = m.create_account(balance=100*10**18)\n",
        "contract_account = m.solidity_create_contract(source_code, owner=user_account)\n",
        "\n",
        "# TODO: \n",
        "# (1) declare three symbolic variables representing `_in`, `_out`, and `_approved`\n",
        "# (2) call a `deposit(_in, _out, _approved)` function with these symbolic arguments."
      ],
      "metadata": {
        "id": "SWu6TzSeA5kR"
      },
      "execution_count": null,
      "outputs": []
    },
    {
      "cell_type": "code",
      "source": [
        "#@title Task 1 Solution \n",
        "\n",
        "m = ManticoreEVM()\n",
        "\n",
        "user_account = m.create_account(balance=100*10**18)\n",
        "contract_account = m.solidity_create_contract(source_code, owner=user_account)\n",
        "\n",
        "symbolic_in = m.make_symbolic_value()\n",
        "symbolic_out = m.make_symbolic_value()\n",
        "symbolic_appr = m.make_symbolic_value()\n",
        "\n",
        "contract_account.deposit(symbolic_in, symbolic_out, symbolic_appr);"
      ],
      "metadata": {
        "id": "EyjaPyHwDDUD",
        "cellView": "form"
      },
      "execution_count": null,
      "outputs": []
    },
    {
      "cell_type": "markdown",
      "source": [
        "Now let's perform the actual analysis of the smart contract and its `balance_in + balance_out >= 200` assertion.\n",
        "As a symbolic execution tool, Manticore systematically analyses all possible execution paths. Each path ends in a certain blockchain state. The list of all final states can be accessed using `m.all_states`. In this exercise, we are interested in paths that end with a `THROW` (or `REVERT`) instruction, meaning that the execution was terminated—possibly, by a failed asserion. These states can be obtained via `m.terminated_states`.\n",
        "Now, the concrete values corresponding to a state can be obtained using `m.generate_testcase(state, name=\"TestCaseName\")`.\n",
        "The results would be saved into a workplace directory `m.workspace`—you can find it in the `Files` tab in Colab.\n",
        "\n",
        "**Task 2:** obtain the list of terminated states and generate a test case for each of them."
      ],
      "metadata": {
        "id": "kGMw2GLFEMgf"
      }
    },
    {
      "cell_type": "code",
      "source": [
        "m = ManticoreEVM()\n",
        "\n",
        "user_account = m.create_account(balance=100*10**18)\n",
        "contract_account = m.solidity_create_contract(source_code, owner=user_account)\n",
        "\n",
        "# TODO: \n",
        "# (1) declare three symbolic variables representing `_in`, `_out`, and `_approved`\n",
        "# (2) call a `deposit(_in, _out, _approved)` function with these symbolic arguments.\n",
        "\n",
        "# (3) obtain a list of terminated states\n",
        "# (4) generate a test case for each of them\n",
        "\n",
        "print(f'Assertion violation found, results are in {m.workspace}')"
      ],
      "metadata": {
        "colab": {
          "base_uri": "https://localhost:8080/"
        },
        "id": "34XjVzzlI-JU",
        "outputId": "e3527f95-a2ec-4ab9-8e06-b56f5ea9c969"
      },
      "execution_count": null,
      "outputs": [
        {
          "output_type": "stream",
          "name": "stdout",
          "text": [
            "Assert violation found, results are in /content/mcore_xb87eq5q\n"
          ]
        }
      ]
    },
    {
      "cell_type": "code",
      "source": [
        "#@title Task 2 Solution\n",
        "\n",
        "m = ManticoreEVM()\n",
        "\n",
        "user_account = m.create_account(balance=100*10**18)\n",
        "contract_account = m.solidity_create_contract(source_code, owner=user_account)\n",
        "\n",
        "symbolic_in = m.make_symbolic_value()\n",
        "symbolic_out = m.make_symbolic_value()\n",
        "symbolic_appr = m.make_symbolic_value()\n",
        "\n",
        "contract_account.deposit(symbolic_in, symbolic_out, symbolic_appr);\n",
        "\n",
        "for state in m.terminated_states:\n",
        "      m.generate_testcase(state, name=\"AssertViolated\")\n",
        "      print(f'Assertion violation found, results are in {m.workspace}')\n"
      ],
      "metadata": {
        "id": "2twlEIjbJhI6",
        "cellView": "form"
      },
      "execution_count": null,
      "outputs": []
    },
    {
      "cell_type": "markdown",
      "source": [
        "If we review the generated test cases, we will notice that two test cases are generated. After the manual symbolic execution performed in the write-up, we are aware of *one* logical issue in the smart contract that might cause an assertion to fail (`_in >= _out && _approve < in`). If we look at the concrete values generated by Manticore (they can be found in `AssertViolated_00000000.tx` and `AssertViolated_00000001.tx`), we'll notice that these values are, in fact, quite big, which might suggest that the failure is caused by integer underflow or overflow (it is). Now, for training purposes, let's assume that the caller can only use relatively small values as arguments when calling `deposit`—for example, less than or equal to 200.\n",
        "*(Please **never** make such assumptions in practice)*.\n",
        "\n",
        "This assumption can be expressed as a constraint (`m.constrain(...)`) on the symbolic values we declared earlier. The constraint itself is an expression that can be constructed from a set of Operators available in Manticore. To import the Operators to your script, run `from manticore.core.smtlib import Operators`. Operators and their implementation can be found [here](https://github.com/trailofbits/manticore/blob/master/manticore/core/smtlib/operators.py). A *less-than-or-equal* Boolean expression corresponds to `Operators.ULE(operand1, operand2)` (`U` in `ULE` stands for `unsigned`—the details on that might/will be covered in next exercises).\n",
        "\n",
        "**Task 3**: Add upper-bound value constraints (e.g., <= 200) on all three symbolic variables."
      ],
      "metadata": {
        "id": "-EUheZdWKGZe"
      }
    },
    {
      "cell_type": "code",
      "source": [
        "from manticore.core.smtlib import Operators"
      ],
      "metadata": {
        "id": "9La4zW2PVqLE"
      },
      "execution_count": null,
      "outputs": []
    },
    {
      "cell_type": "code",
      "source": [
        "m = ManticoreEVM()\n",
        "\n",
        "user_account = m.create_account(balance=100*10**18)\n",
        "contract_account = m.solidity_create_contract(source_code, owner=user_account)\n",
        "\n",
        "# TODO: \n",
        "# (1) declare three symbolic variables representing `_in`, `_out`, and `_approved`\n",
        "# (5) add constraints on symbolic variables\n",
        "\n",
        "# (2) call a `deposit(_in, _out, _approved)` function with these symbolic arguments.\n",
        "\n",
        "# (3) obtain a list of terminated states\n",
        "# (4) generate a test case for each of them\n",
        "\n",
        "print(f'Assertion violation found, results are in {m.workspace}')"
      ],
      "metadata": {
        "id": "tepnbpUuN4Gq"
      },
      "execution_count": null,
      "outputs": []
    },
    {
      "cell_type": "code",
      "source": [
        "#@title Task 3 Solution\n",
        "\n",
        "m = ManticoreEVM()\n",
        "\n",
        "user_account = m.create_account(balance=100*10**18)\n",
        "contract_account = m.solidity_create_contract(source_code, owner=user_account)\n",
        "\n",
        "symbolic_in = m.make_symbolic_value()\n",
        "symbolic_out = m.make_symbolic_value()\n",
        "symbolic_appr = m.make_symbolic_value()\n",
        "\n",
        "m.constrain(Operators.ULE(symbolic_in, 200))\n",
        "m.constrain(Operators.ULE(symbolic_out, 200))\n",
        "m.constrain(Operators.ULE(symbolic_appr, 200))\n",
        "\n",
        "contract_account.deposit(symbolic_in, symbolic_out, symbolic_appr);\n",
        "\n",
        "for state in m.terminated_states:\n",
        "      m.generate_testcase(state, name=\"BugFound\")\n",
        "      print(f'Assertion violation found, results are in {m.workspace}')"
      ],
      "metadata": {
        "id": "y9GSbvVwOgcY",
        "cellView": "form"
      },
      "execution_count": null,
      "outputs": []
    },
    {
      "cell_type": "markdown",
      "source": [
        "Although now we only generate a single expected test case, the assumptions we made on variable values are not realistic. Let's add overflow protection to the smart contract source code and remove the `assert` from the code (since it can overflow too). Instead, let's encode this requirement as a property in our Python script. Let's re-write the example smart contract source code by adding overflow protection to `balance_in += _in;` and removing the `assert` statement. A common way to protect from integer overflow is to check that the following condition holds: *the result of a sum is greater than or equal to the (first) operand*. In our example, it translates into `require(balance_in >= _in)`."
      ],
      "metadata": {
        "id": "sgU5hQ26QWQX"
      }
    },
    {
      "cell_type": "code",
      "source": [
        "source_code = \"\"\"\n",
        "contract Exchange {   \n",
        "    function deposit(uint _in, uint _out, uint _approved) public {\n",
        "        uint balance_in = 100; uint balance_out = 100;\n",
        "\n",
        "        if (_in >= _out && _out <= balance_out) {\n",
        "            if (_approved >= _in) {\n",
        "                balance_in += _in;\n",
        "                require(balance_in >= _in);\n",
        "\n",
        "                _approved -= _in;\n",
        "            }\n",
        "            \n",
        "            balance_out -= _out;\n",
        "        }\n",
        "   }\n",
        "}\n",
        "\"\"\""
      ],
      "metadata": {
        "id": "8dbMJwWtQQtC"
      },
      "execution_count": null,
      "outputs": []
    },
    {
      "cell_type": "markdown",
      "source": [
        "Since now `assert` has been removed and overflowing executions revert, we need to analyze paths that executed successfuly: we can get them using `m.ready_states`."
      ],
      "metadata": {
        "id": "pVJ4N12MR86D"
      }
    },
    {
      "cell_type": "markdown",
      "source": [
        "We also need to define the property we'll be checking: that the sum of `balance_in` and `balance_out` should not decrease. In other words, we want to identify the \\[vulnerable] states where this sum of balances after `deposit()` is *less* than the sum of balances before. We can identify these states by adding a corresponding constraint, or `condition`, by adding it to `m.generate_testcase(state, name=\"BugFound\", only_if=condition)`."
      ],
      "metadata": {
        "id": "oEuNS0LusUHK"
      }
    },
    {
      "cell_type": "markdown",
      "source": [
        "However, we need to formulate the property as an expression that Manticore understands. To do so, we need to obtain the values of `balance_in` and `balance_out` before and after the execution.\n",
        "\n",
        "Let's make the code more realistic by assuming that `balance_in` and `balance_out` are public variables with their values being set to 100 in the constructor.\n",
        "In this case, their values are returned by the following function calls: `contract_account.balance_in()` and `contract_account.balance_out()`—these getter functions are automatically generated by the Solidity compiler."
      ],
      "metadata": {
        "id": "eq8bXxRssfen"
      }
    },
    {
      "cell_type": "code",
      "source": [
        "source_code = \"\"\"\n",
        "contract Exchange {   \n",
        "    uint public balance_in;\n",
        "    uint public balance_out;\n",
        "\n",
        "    constructor() public {\n",
        "        balance_in = 100;\n",
        "        balance_out = 100;\n",
        "    }\n",
        "\n",
        "    function deposit(uint _in, uint _out, uint _approved) public {\n",
        "        if (_in >= _out && _out <= balance_out) {\n",
        "            if (_approved >= _in) {\n",
        "                balance_in += _in;\n",
        "                require(balance_in >= _in);\n",
        "\n",
        "                _approved -= _in;\n",
        "            }\n",
        "            \n",
        "            balance_out -= _out;\n",
        "        }\n",
        "   }\n",
        "}\n",
        "\"\"\"\n"
      ],
      "metadata": {
        "id": "TeWA_Mmzttm2"
      },
      "execution_count": null,
      "outputs": []
    },
    {
      "cell_type": "markdown",
      "source": [
        "**Task 4**: Instrument the script with four additional transactions that return smart contract balances (two before `deposit`, two after). Iterate through states that correspond to successful (not terminated) executions to check that the script works as expected."
      ],
      "metadata": {
        "id": "VEjjRdCdtyAH"
      }
    },
    {
      "cell_type": "code",
      "source": [
        "m = ManticoreEVM()\n",
        "\n",
        "user_account = m.create_account(balance=100*10**18)\n",
        "contract_account = m.solidity_create_contract(source_code, owner=user_account)\n",
        "\n",
        "symbolic_in = m.make_symbolic_value()\n",
        "symbolic_out = m.make_symbolic_value()\n",
        "symbolic_appr = m.make_symbolic_value()\n",
        "\n",
        "# (1) Get values of balance_in and balance_out *before* deposit()\n",
        "\n",
        "contract_account.deposit(symbolic_in, symbolic_appr, symbolic_out);\n",
        "\n",
        "# (2) Get values of balance_in and balance_out *after* deposit()\n",
        "\n",
        "for state in # (3) iterate over states that are *ready*\n",
        "  print(state)\n",
        "\n",
        "print(f'States info can be found in {m.workspace}')"
      ],
      "metadata": {
        "id": "7u4yzMtTj9Tq"
      },
      "execution_count": null,
      "outputs": []
    },
    {
      "cell_type": "code",
      "source": [
        "#@title Task 4 Solution\n",
        "\n",
        "m = ManticoreEVM()\n",
        "\n",
        "user_account = m.create_account(balance=100*10**18)\n",
        "contract_account = m.solidity_create_contract(source_code, owner=user_account)\n",
        "\n",
        "symbolic_in = m.make_symbolic_value()\n",
        "symbolic_out = m.make_symbolic_value()\n",
        "symbolic_appr = m.make_symbolic_value()\n",
        "\n",
        "contract_account.balance_in()\n",
        "contract_account.balance_out()\n",
        "\n",
        "contract_account.deposit(symbolic_in, symbolic_out, symbolic_appr);\n",
        "\n",
        "contract_account.balance_in()\n",
        "contract_account.balance_out()\n",
        "\n",
        "for state in m.ready_states:\n",
        "  print(state)\n",
        "\n",
        "print(f'States info can be found in {m.workspace}')\n"
      ],
      "metadata": {
        "id": "0RH6rsH-T8vJ",
        "cellView": "form"
      },
      "execution_count": null,
      "outputs": []
    },
    {
      "cell_type": "markdown",
      "source": [
        "To construct a property, we have to process the result returned by the `balance_in()` and `balance_out()` functions. The (serialized) data returned by a transaction *in a state* can be obtained using `state.platform.transactions[n].return_data` command, where `n` corresponds to the position of a transaction in a sequence of calls in the analysis script. For example, our script now has the following transactions and indices:\n",
        "\n",
        "\\[0] — m.solidity_create_contract\n",
        "\n",
        "\\[1] — contract_account.balance_in()\n",
        "\n",
        "\\[2] — contract_account.balance_out()\n",
        "\n",
        "\\[3] — contract_account.deposit(symbolic_in, symbolic_out, symbolic_appr)\n",
        "\n",
        "...and so on.\n",
        "\n",
        "As you may notice, the values of variables we're interested in are returned by transactions 1, 2, 4, and 5. To be used in an expression, we need to deserialize the return data into an unsigned integer: this can be done by `ABI.deserialize(\"uint\", return_data)`.\n",
        "`ABI` needs to be imported prior to usage:\n",
        "`from manticore.ethereum import ABI`.\n",
        "\n",
        "After the balances before and after `deposit` are obtained, we can define a constraint that captures the vulnerable state criterion. For illustration purposes, let's make the requirement even more strict: the sum of balances in a smart contract should only increase. The vulnerable condition, then, becomes the following: the sum of balances *before* the function execution is *greater than or equal to* the sum *after*. This can be formulated using the *unsigned greater than* operator: `Operators.UGT(operand1, operand2)`.\n",
        "\n",
        "**Task 5**: Process the data returned by `balance_in()` and `balance_out()`  calls. Use the obtained values to build a condition for test case generation, pass this condition to `m.generate_testcase` as an `only_if` argument."
      ],
      "metadata": {
        "id": "uo0tBCvWcqJ7"
      }
    },
    {
      "cell_type": "code",
      "source": [
        "from manticore.ethereum import ABI"
      ],
      "metadata": {
        "id": "TGrX5KwZcody"
      },
      "execution_count": null,
      "outputs": []
    },
    {
      "cell_type": "code",
      "source": [
        "m = ManticoreEVM()\n",
        "\n",
        "user_account = m.create_account(balance=100*10**18)\n",
        "contract_account = m.solidity_create_contract(source_code, owner=user_account)\n",
        "\n",
        "symbolic_in = m.make_symbolic_value()\n",
        "symbolic_out = m.make_symbolic_value()\n",
        "symbolic_appr = m.make_symbolic_value()\n",
        "\n",
        "# (1) Get values of balance_in and balance_out *before* deposit()\n",
        "\n",
        "contract_account.deposit(symbolic_in, symbolic_out, symbolic_appr)\n",
        "\n",
        "# (2) Get values of balance_in and balance_out *after* deposit()\n",
        "\n",
        "for state in m.ready_states:\n",
        "    # (3) Get balance_in and balance_out *before* deposit() and sum them up\n",
        "    # (4) Get balance_in and balance_out *after* deposit() and sum them up\n",
        "\n",
        "    condition = # (5) define a condition that detects a vulnerable state\n",
        "    \n",
        "    # (6) pass the condition as only_if=... parameter in generate_testcase\n",
        "    if m.generate_testcase(state, name=\"BugFound\"):\n",
        "        print(f'Assertion violation found, results are in {m.workspace}')"
      ],
      "metadata": {
        "id": "tjjpSim-gCm1"
      },
      "execution_count": null,
      "outputs": []
    },
    {
      "cell_type": "code",
      "source": [
        "#@title Task 5 Solution\n",
        "\n",
        "m = ManticoreEVM()\n",
        "\n",
        "user_account = m.create_account(balance=100*10**18)\n",
        "contract_account = m.solidity_create_contract(source_code, owner=user_account)\n",
        "\n",
        "symbolic_in = m.make_symbolic_value()\n",
        "symbolic_out = m.make_symbolic_value()\n",
        "symbolic_appr = m.make_symbolic_value()\n",
        "\n",
        "contract_account.balance_in()\n",
        "contract_account.balance_out()\n",
        "\n",
        "contract_account.deposit(symbolic_in, symbolic_out, symbolic_appr)\n",
        "\n",
        "contract_account.balance_in()\n",
        "contract_account.balance_out()\n",
        "\n",
        "for state in m.ready_states:\n",
        "    in_balance_before = state.platform.transactions[1].return_data\n",
        "    in_balance_before = ABI.deserialize(\"uint\", in_balance_before)\n",
        "\n",
        "    out_balance_before = state.platform.transactions[2].return_data\n",
        "    out_balance_before = ABI.deserialize(\"uint\", out_balance_before)\n",
        "\n",
        "    in_balance_after = state.platform.transactions[4].return_data\n",
        "    in_balance_after = ABI.deserialize(\"uint\", in_balance_after)\n",
        "\n",
        "    out_balance_after = state.platform.transactions[5].return_data\n",
        "    out_balance_after = ABI.deserialize(\"uint\", out_balance_after)\n",
        "\n",
        "    sum_before = in_balance_before + out_balance_before\n",
        "    sum_after = in_balance_after + out_balance_after\n",
        "\n",
        "    condition = Operators.UGT(sum_before, sum_after)\n",
        "\n",
        "    if m.generate_testcase(state, name=\"BugFound\", only_if=condition):\n",
        "        print(f'Assertion violation found, results are in {m.workspace}')"
      ],
      "metadata": {
        "id": "FAmW49RSkywg",
        "cellView": "form"
      },
      "execution_count": null,
      "outputs": []
    },
    {
      "cell_type": "markdown",
      "source": [
        "We can, however, notice that two test cases are generated. One of them is, again, attributed to integer overflow that occurs when we sum `balance_in` and `balance_out` before (and after) the execution. Since these operations are not part of the analyzed smart contract, let's add an additional \"no-overflow\" constraint to the test case generation condition.\n",
        "Our final condition will consist of two parts: *the sum of balances did not increase AND no overflow occured during the (balance_in + balance_out) operation*.\n",
        "To implement AND, use `Operators.AND`. In the absence of integer overflow, the following condition should hold: *the result of a sum is greater than or equal (`Operators.UGT`) to the first operand*.\n",
        "\n",
        "(Final) **Task 6** Integrate the no-overflow-on-a-sum constraint into a condition that is used to detect vulnerable state. Analyze the resulting test case, check if it matches the result of the manual analysis performed in the write-up."
      ],
      "metadata": {
        "id": "YDpO29aMcIoO"
      }
    },
    {
      "cell_type": "code",
      "source": [
        "m = ManticoreEVM()\n",
        "\n",
        "user_account = m.create_account(balance=100*10**18)\n",
        "contract_account = m.solidity_create_contract(source_code, owner=user_account)\n",
        "\n",
        "symbolic_in = m.make_symbolic_value()\n",
        "symbolic_out = m.make_symbolic_value()\n",
        "symbolic_appr = m.make_symbolic_value()\n",
        "\n",
        "# (1) Get values of balance_in and balance_out *before* deposit()\n",
        "\n",
        "contract_account.deposit(symbolic_in, symbolic_out, symbolic_appr)\n",
        "\n",
        "# (2) Get values of balance_in and balance_out *after* deposit()\n",
        "\n",
        "for state in m.ready_states:\n",
        "    # (3) Get balance_in and balance_out *before* deposit() and sum them up\n",
        "    # (4) Get balance_in and balance_out *after* deposit() and sum them up\n",
        "\n",
        "    # (5) Define a constraint that ensures that no overflow\n",
        "    #      occurs during balances-before sum-up \n",
        "    # (6) Define a constraint that ensures that no overflow\n",
        "    #      occurs during balances-after sum-up \n",
        "\n",
        "\n",
        "    condition = # (7) define a condition includes no-overflow\n",
        "                #   and property violation constraints\n",
        "    \n",
        "    # (8) pass the condition as only_if=... parameter in generate_testcase\n",
        "    if m.generate_testcase(state, name=\"BugFound\"):\n",
        "        print(f'Assertion violation, results are in {m.workspace}')\n"
      ],
      "metadata": {
        "id": "nL65UbQ8n0yK"
      },
      "execution_count": null,
      "outputs": []
    },
    {
      "cell_type": "code",
      "source": [
        "#@title Task 6 Solution\n",
        "\n",
        "m = ManticoreEVM()\n",
        "\n",
        "user_account = m.create_account(balance=100*10**18)\n",
        "contract_account = m.solidity_create_contract(source_code, owner=user_account)\n",
        "\n",
        "symbolic_in = m.make_symbolic_value()\n",
        "symbolic_out = m.make_symbolic_value()\n",
        "symbolic_appr = m.make_symbolic_value()\n",
        "\n",
        "contract_account.balance_in()\n",
        "contract_account.balance_out()\n",
        "\n",
        "contract_account.deposit(symbolic_in, symbolic_out, symbolic_appr)\n",
        "\n",
        "contract_account.balance_in()\n",
        "contract_account.balance_out()\n",
        "\n",
        "for state in m.ready_states:\n",
        "    in_balance_before = state.platform.transactions[1].return_data\n",
        "    in_balance_before = ABI.deserialize(\"uint\", in_balance_before)\n",
        "\n",
        "    out_balance_before = state.platform.transactions[2].return_data\n",
        "    out_balance_before = ABI.deserialize(\"uint\", out_balance_before)\n",
        "\n",
        "    in_balance_after = state.platform.transactions[4].return_data\n",
        "    in_balance_after = ABI.deserialize(\"uint\", in_balance_after)\n",
        "\n",
        "    out_balance_after = state.platform.transactions[5].return_data\n",
        "    out_balance_after = ABI.deserialize(\"uint\", out_balance_after)\n",
        "\n",
        "    sum_before = in_balance_before + out_balance_before\n",
        "    sum_after = in_balance_after + out_balance_after\n",
        "    \n",
        "    no_before_overflow = Operators.UGE(sum_before, in_balance_before)\n",
        "    no_after_overflow = Operators.UGE(sum_after, in_balance_after)\n",
        "    no_sum_overflow = Operators.AND(no_before_overflow, no_after_overflow)\n",
        "\n",
        "    condition = Operators.AND(Operators.UGT(sum_before, sum_after),\n",
        "                                no_sum_overflow)\n",
        "\n",
        "    if m.generate_testcase(state, name=\"BugFound\", only_if=condition):\n",
        "        print(f'Assertion violation found, results are in {m.workspace}')"
      ],
      "metadata": {
        "id": "_T9-VR4HmC8z",
        "cellView": "form"
      },
      "execution_count": null,
      "outputs": []
    }
  ]
}