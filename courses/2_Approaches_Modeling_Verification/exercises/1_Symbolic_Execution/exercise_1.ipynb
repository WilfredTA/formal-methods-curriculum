{
  "cells": [
    {
      "cell_type": "markdown",
      "metadata": {
        "id": "ypUC4gCR3yTZ"
      },
      "source": [
        "## Course 2:  Symbolic Execution\n",
        "### **Exercise 1.** Practical Symbolic Execution using Manticore\n",
        "\n",
        "The purpose of this exercise is to equip you with hand-on experience of applying *existing* symbolic execution tools to analyze smart contracts.\n",
        "This exercise is based on [Manticore](https://github.com/trailofbits/manticore)—a symbolic execution engine developed in Python by Trail of Bits. *It is also inspired by the Manticore's own [tutorial](https://ethereum.org/en/developers/tutorials/how-to-use-manticore-to-find-smart-contract-bugs/).*\n",
        "This Jupyter notebook uses Python 3.7.\n",
        "\n",
        "#### **Installation**\n",
        "\n",
        "Manticore (and Solidity compiler solc) can be installed using `pip`."
      ]
    },
    {
      "cell_type": "code",
      "execution_count": null,
      "metadata": {
        "colab": {
          "base_uri": "https://localhost:8080/"
        },
        "id": "x59WzH57n31s",
        "outputId": "2d07102a-1b51-4ed9-80b5-ad5af649a3b3"
      },
      "outputs": [],
      "source": [
        "!pip install \"manticore[native]\" solc-select\n",
        "!solc-select install 0.5.11\n",
        "!solc-select use 0.5.11"
      ]
    },
    {
      "cell_type": "markdown",
      "metadata": {
        "id": "sp3FKogl3yob"
      },
      "source": [
        "#### **Manticore Basics**\n",
        "\n",
        "In this exercise, we will be using Python API provided by Manticore. Using the API commands, we can write a Python script controlling the symbolic execution process. First, the script should instantiate a new blockchain `m`:"
      ]
    },
    {
      "cell_type": "code",
      "execution_count": 2,
      "metadata": {
        "id": "vQ8Y2L_V3xPT"
      },
      "outputs": [],
      "source": [
        "from manticore.ethereum import ManticoreEVM\n",
        "\n",
        "m = ManticoreEVM()"
      ]
    },
    {
      "cell_type": "markdown",
      "metadata": {
        "id": "9Ru5QIsB9Eu1"
      },
      "source": [
        "Now let's use Manticore to analyze the smart contract used as an example in the [theoretical write-up](https://github.com/baolean/formal-methods-curriculum/blob/course_2_symexec/courses/2_Approaches_Modeling_Verification/content/symbolic_execution.md). The next cell loads smart contract's source code into the `source_code` variable:"
      ]
    },
    {
      "cell_type": "code",
      "execution_count": 3,
      "metadata": {
        "id": "plGC6Ewu9Eaw"
      },
      "outputs": [],
      "source": [
        "source_code = \"\"\"\n",
        "contract Exchange {   \n",
        "\n",
        "    uint public balanceIn;\n",
        "    uint public balanceOut;\n",
        "\n",
        "    constructor() public {\n",
        "        balanceIn = 100;\n",
        "        balanceOut = 100;\n",
        "    }\n",
        "\n",
        "    function deposit(uint _in, uint approved, uint out) public {\n",
        "        if (_in >= out && out <= balanceOut) {\n",
        "            if (approved >= _in) {\n",
        "                balanceIn += _in;\n",
        "                approved -= _in;\n",
        "            }\n",
        "            \n",
        "            balanceOut -= out;\n",
        "        }\n",
        "\n",
        "        assert(balanceIn + balanceOut >= 200);\n",
        "   }\n",
        "}\n",
        "\"\"\""
      ]
    },
    {
      "cell_type": "markdown",
      "metadata": {
        "id": "vmzTskyf9z9L"
      },
      "source": [
        "To analyze a smart contract, it has to be deployed and, then, called via a transaction. To do so, we need to set up a regular (non-smart-contract) user account, which can be created using `m.create_account` command. It can be called with [several parameters](https://manticore.readthedocs.io/en/latest/evm.html?highlight=create_account#manticore.ethereum.ManticoreEVM.create_account) specyfing its balance, address, etc.\n",
        "\n",
        "A smart contract defined in `source_code` can be, then, deployed using `m.solidity_create_contract` function. As parameters, we'll pass the smart contract code and the owner address we have just created. Other optional parameters can be found in the [documentation](https://manticore.readthedocs.io/en/latest/evm.html?highlight=create_account#manticore.ethereum.ManticoreEVM.create_contract). The script, then, becomes:"
      ]
    },
    {
      "cell_type": "code",
      "execution_count": 5,
      "metadata": {
        "id": "5pUyfntt_MJZ"
      },
      "outputs": [],
      "source": [
        "m = ManticoreEVM()\n",
        "\n",
        "user_account = m.create_account(balance=100*10**18)\n",
        "contract_account = m.solidity_create_contract(source_code, owner=user_account)"
      ]
    },
    {
      "cell_type": "markdown",
      "metadata": {
        "id": "hyiApwQiA6Lv"
      },
      "source": [
        "Manticore supports *raw* and *named* transactions. A *raw* transaction explores all smart contract functions—the transaction caller, data, address, or value can all be symbolic. However, in this example we will use *named* transactions which explore only one particular function, but it can do so with *symbolic* input arguments.\n",
        "\n",
        "In Manticore API, symbolic variables (normally a uint256) are created using [`m.make_symbolic_value`](https://manticore.readthedocs.io/en/latest/evm.html?highlight=create_account#manticore.ethereum.ManticoreEVM.make_symbolic_value).\n",
        "To call a function of a smart contract, run `contract_account.func_name(arguments)`.\n",
        "\n",
        "**Task 1:** declare three symbolic variables representing `_in`, `_appr`, and `_out`, and call a `deposit(_in, _appr, _out)` function with these symbolic arguments."
      ]
    },
    {
      "cell_type": "code",
      "execution_count": 6,
      "metadata": {
        "id": "SWu6TzSeA5kR"
      },
      "outputs": [],
      "source": [
        "m = ManticoreEVM()\n",
        "\n",
        "user_account = m.create_account(balance=100*10**18)\n",
        "contract_account = m.solidity_create_contract(source_code, owner=user_account)\n",
        "\n",
        "# TODO: \n",
        "# (1) declare three symbolic variables representing `_in`, `_appr`, and `_out`\n",
        "# (2) call a `deposit(_in, _appr, _out)` function with these symbolic arguments."
      ]
    },
    {
      "cell_type": "code",
      "execution_count": 7,
      "metadata": {
        "id": "EyjaPyHwDDUD"
      },
      "outputs": [],
      "source": [
        "#@title Task 1 Solution \n",
        "\n",
        "m = ManticoreEVM()\n",
        "\n",
        "user_account = m.create_account(balance=100*10**18)\n",
        "contract_account = m.solidity_create_contract(source_code, owner=user_account)\n",
        "\n",
        "symbolic_in = m.make_symbolic_value()\n",
        "symbolic_out = m.make_symbolic_value()\n",
        "symbolic_appr = m.make_symbolic_value()\n",
        "\n",
        "contract_account.deposit(symbolic_in, symbolic_appr, symbolic_out);"
      ]
    },
    {
      "cell_type": "markdown",
      "metadata": {
        "id": "kGMw2GLFEMgf"
      },
      "source": [
        "Now let's perform the actual analysis of the smart contract and its `balanceIn + balanceOut >= 200` assertion.\n",
        "As a symbolic execution tool, Manticore systematically analyses all possible execution paths. Each path ends in a certain blockchain state. The list of all final states can be accessed using `m.all_states`. In this exercise, we are interested in paths that end with a `THROW` (or `REVERT`) instruction, meaning that the execution was terminated—possibly, by a failed asserion. These states can be obtained via `m.terminated_states`.\n",
        "Now, the concrete values corresponding to a state can be obtained using `m.generate_testcase(state, name=\"TestCaseName\")`.\n",
        "The results would be saved into a workplace directory `m.workspace`.\n",
        "\n",
        "**Task 2:** obtain the list of states terminated states and generate a test case for each of them."
      ]
    },
    {
      "cell_type": "code",
      "execution_count": 15,
      "metadata": {
        "colab": {
          "base_uri": "https://localhost:8080/"
        },
        "id": "34XjVzzlI-JU",
        "outputId": "8da7c1a5-ad0d-472f-ec83-19a12595617f"
      },
      "outputs": [
        {
          "name": "stdout",
          "output_type": "stream",
          "text": [
            "Assert violation found, results are in /content/mcore_tncdv2ed\n"
          ]
        }
      ],
      "source": [
        "m = ManticoreEVM()\n",
        "\n",
        "user_account = m.create_account(balance=100*10**18)\n",
        "contract_account = m.solidity_create_contract(source_code, owner=user_account)\n",
        "\n",
        "# TODO: \n",
        "# (1) declare three symbolic variables representing `_in`, `_appr`, and `_out`\n",
        "# (2) call a `deposit(_in, _appr, _out)` function with these symbolic arguments.\n",
        "\n",
        "# (3) obtain a list of terminated states\n",
        "# (4) generate a test case for each of them\n",
        "\n",
        "print(f'Assert violation found, results are in {m.workspace}')"
      ]
    },
    {
      "cell_type": "code",
      "execution_count": 8,
      "metadata": {
        "colab": {
          "base_uri": "https://localhost:8080/"
        },
        "id": "2twlEIjbJhI6",
        "outputId": "3b31a292-b1c9-4f74-8534-f8a7c646e6f7"
      },
      "outputs": [
        {
          "name": "stdout",
          "output_type": "stream",
          "text": [
            "2022-06-17 12:28:37,435: [6702] m.c.plugin:\u001b[33mWARNING:\u001b[0m Caught will_solve in state None, but failed to capture its initialization\n",
            "Assert violation found, results are in /content/mcore_lrw3_0m0\n",
            "Assert violation found, results are in /content/mcore_lrw3_0m0\n"
          ]
        }
      ],
      "source": [
        "#@title Task 2 Solution\n",
        "\n",
        "m = ManticoreEVM()\n",
        "\n",
        "user_account = m.create_account(balance=100*10**18)\n",
        "contract_account = m.solidity_create_contract(source_code, owner=user_account)\n",
        "\n",
        "symbolic_in = m.make_symbolic_value()\n",
        "symbolic_out = m.make_symbolic_value()\n",
        "symbolic_appr = m.make_symbolic_value()\n",
        "\n",
        "contract_account.deposit(symbolic_in, symbolic_appr, symbolic_out);\n",
        "\n",
        "for state in m.terminated_states:\n",
        "      m.generate_testcase(state, name=\"AssertViolated\")\n",
        "      print(f'Assert violation found, results are in {m.workspace}')\n"
      ]
    },
    {
      "cell_type": "markdown",
      "metadata": {
        "id": "-EUheZdWKGZe"
      },
      "source": [
        "If we investigate the generated test cases, we will notice that two test cases are generated. After the manual symbolic execution described in the write-up, we are aware of *one* logical issue in the smart contract that might cause an assertion to fail. If we look at the concrete values generated by Manticore (they can be found in `AssertViolated_00000000.tx` and `AssertViolated_00000001.tx`), we'll notice that these values are, in fact, quite big, which might suggest that the failure is caused to integer underflow or overflow (it is). Now, for training purposes, let's assume that the caller can only use relatively small values as arguments when calling `deposit`—for example, less than or equal to 200.\n",
        "*(Please **never** make such assumptions in practice)*.\n",
        "\n",
        "This assumption can be expressed as a constraint on the symbolic values we declared earlier as `m.constrain(...)`. The constraint itself is an expression that can be constructed from a set of Operators available in Manticore. To import the Operators to your script, run `from manticore.core.smtlib import Operators`. Operators and their implementation can be found [here](https://github.com/trailofbits/manticore/blob/master/manticore/core/smtlib/operators.py). A *less-than-or-equal* Boolean expression corresponds to `Operators.ULE(operand1, operand2)` (`U` in `ULE` stands for `unsigned`—the details on that might/will be covered in next exercises).\n",
        "\n",
        "**Task 3**: Add upper-bound value constraints (e.g., <= 200) on all three symbolic variables."
      ]
    },
    {
      "cell_type": "code",
      "execution_count": 9,
      "metadata": {
        "id": "9La4zW2PVqLE"
      },
      "outputs": [],
      "source": [
        "from manticore.core.smtlib import Operators"
      ]
    },
    {
      "cell_type": "code",
      "execution_count": 56,
      "metadata": {
        "colab": {
          "base_uri": "https://localhost:8080/"
        },
        "id": "tepnbpUuN4Gq",
        "outputId": "0ead5560-6a8b-4162-a7e6-dd0d05d24148"
      },
      "outputs": [
        {
          "name": "stdout",
          "output_type": "stream",
          "text": [
            "Assert violation found, results are in /content/mcore_9wnu_s3p\n"
          ]
        }
      ],
      "source": [
        "m = ManticoreEVM()\n",
        "\n",
        "user_account = m.create_account(balance=100*10**18)\n",
        "contract_account = m.solidity_create_contract(source_code, owner=user_account)\n",
        "\n",
        "# TODO: \n",
        "# (1) declare three symbolic variables representing `_in`, `_appr`, and `_out`\n",
        "# (5) add constraints on symbolic variables\n",
        "\n",
        "# (2) call a `deposit(_in, _appr, _out)` function with these symbolic arguments.\n",
        "\n",
        "# (3) obtain a list of terminated states\n",
        "# (4) generate a test case for each of them\n",
        "\n",
        "print(f'Assert violation found, results are in {m.workspace}')"
      ]
    },
    {
      "cell_type": "code",
      "execution_count": 10,
      "metadata": {
        "colab": {
          "base_uri": "https://localhost:8080/"
        },
        "id": "y9GSbvVwOgcY",
        "outputId": "66f51f47-5c38-4463-d9f6-c8cdc0f37e24"
      },
      "outputs": [
        {
          "name": "stdout",
          "output_type": "stream",
          "text": [
            "2022-06-17 12:31:23,763: [6702] m.c.plugin:\u001b[33mWARNING:\u001b[0m Caught will_solve in state None, but failed to capture its initialization\n",
            "Assert violation found, results are in /content/mcore_hszlm5r5\n"
          ]
        }
      ],
      "source": [
        "#@title Task 3 Solution\n",
        "\n",
        "m = ManticoreEVM()\n",
        "\n",
        "user_account = m.create_account(balance=100*10**18)\n",
        "contract_account = m.solidity_create_contract(source_code, owner=user_account)\n",
        "\n",
        "symbolic_in = m.make_symbolic_value()\n",
        "symbolic_out = m.make_symbolic_value()\n",
        "symbolic_appr = m.make_symbolic_value()\n",
        "\n",
        "m.constrain(Operators.ULE(symbolic_in, 200))\n",
        "m.constrain(Operators.ULE(symbolic_out, 200))\n",
        "m.constrain(Operators.ULE(symbolic_appr, 200))\n",
        "\n",
        "contract_account.deposit(symbolic_in, symbolic_appr, symbolic_out);\n",
        "\n",
        "for state in m.terminated_states:\n",
        "      m.generate_testcase(state, name=\"AssertViolated\")\n",
        "      print(f'Assert violation found, results are in {m.workspace}')"
      ]
    },
    {
      "cell_type": "markdown",
      "metadata": {
        "id": "sgU5hQ26QWQX"
      },
      "source": [
        "Although now we only generate a single expected test case, the assumptions we made on variable values are not realistic. Let's add overflow protection to the smart contract source code and remove the `assert` from the code (since it can overflow too). Instead, let's encode this requirement as a property in our Python script. Let's re-write the example smart contract source code by adding overflow protection to `balanceIn += _in;` and removing the `assert` statement."
      ]
    },
    {
      "cell_type": "code",
      "execution_count": 11,
      "metadata": {
        "id": "8dbMJwWtQQtC"
      },
      "outputs": [],
      "source": [
        "source_code = \"\"\"\n",
        "contract Exchange {   \n",
        "\n",
        "    uint public balanceIn;\n",
        "    uint public balanceOut;\n",
        "\n",
        "    constructor() public {\n",
        "        balanceIn = 100;\n",
        "        balanceOut = 100;\n",
        "    }\n",
        "\n",
        "    function deposit(uint _in, uint approved, uint out) public {\n",
        "        if (_in >= out && out <= balanceOut) {\n",
        "            if (approved >= _in) {\n",
        "                balanceIn += _in;\n",
        "                require(balanceIn >= _in);\n",
        "\n",
        "                approved -= _in;\n",
        "            }\n",
        "            \n",
        "            balanceOut -= out;\n",
        "        }\n",
        "   }\n",
        "}\n",
        "\"\"\""
      ]
    },
    {
      "cell_type": "markdown",
      "metadata": {
        "id": "pVJ4N12MR86D"
      },
      "source": [
        "Since now `assert` has been removed and overflowing executions revert, we need to analyze paths that executed successfuly: we can get them using `m.ready_states`.\n",
        "\n",
        "We also need to define the property we'll be checking: that the sum of `balanceIn` and `balanceOut` should not decrease. In other words, we want to identify the \\[vulnerable] states where this sum of balances before `deposit()` is *less* than the sum of balances after. We can identify these states by adding a corresponding constraint, or `condition`, by adding it to `m.generate_testcase(state, name=\"BugFound\", only_if=condition)`.\n",
        "\n",
        "However, we still need to formulate the property as an expression that Manticore understands. To do so, we need to obtain the values of `balanceIn` and `balanceOut` before and after the execution—they are returned by the following function calls: `contract_account.balanceIn()` and `contract_account.balanceOut()`.\n",
        "<!-- These getters are automatically generated by Solidity. -->\n",
        "\n",
        "**Task 4**: Instrument the script with four additional transactions that return smart contract balances (two before `deposit`, two after). Iterate through states that correspond to successful (not terminated) executions."
      ]
    },
    {
      "cell_type": "code",
      "execution_count": null,
      "metadata": {
        "id": "7u4yzMtTj9Tq"
      },
      "outputs": [],
      "source": [
        "#@title Task 4 Solution\n",
        "\n",
        "m = ManticoreEVM()\n",
        "\n",
        "user_account = m.create_account(balance=100*10**18)\n",
        "contract_account = m.solidity_create_contract(source_code, owner=user_account)\n",
        "\n",
        "symbolic_in = m.make_symbolic_value()\n",
        "symbolic_out = m.make_symbolic_value()\n",
        "symbolic_appr = m.make_symbolic_value()\n",
        "\n",
        "# (1) Get values of balance_in and balance_out *before* deposit()\n",
        "\n",
        "contract_account.deposit(symbolic_in, symbolic_appr, symbolic_out)\n",
        "\n",
        "# (2) Get values of balance_in and balance_out *after* deposit()\n",
        "\n",
        "for state in # (3) iterate over states that are *ready*\n",
        "  print(state)\n",
        "\n",
        "print(f'States info can be found in {m.workspace}')"
      ]
    },
    {
      "cell_type": "code",
      "execution_count": 12,
      "metadata": {
        "colab": {
          "base_uri": "https://localhost:8080/"
        },
        "id": "0RH6rsH-T8vJ",
        "outputId": "ae835cc2-3a44-43de-e301-6f4e654a8810"
      },
      "outputs": [
        {
          "name": "stdout",
          "output_type": "stream",
          "text": [
            "<State object with id 8>\n",
            "<State object with id 4>\n",
            "<State object with id 1>\n",
            "<State object with id 6>\n",
            "States info can be found in /content/mcore_fjwnkh6f\n"
          ]
        }
      ],
      "source": [
        "#@title Task 4 Solution\n",
        "\n",
        "m = ManticoreEVM()\n",
        "\n",
        "user_account = m.create_account(balance=100*10**18)\n",
        "contract_account = m.solidity_create_contract(source_code, owner=user_account)\n",
        "\n",
        "symbolic_in = m.make_symbolic_value()\n",
        "symbolic_out = m.make_symbolic_value()\n",
        "symbolic_appr = m.make_symbolic_value()\n",
        "\n",
        "contract_account.balanceIn()\n",
        "contract_account.balanceOut()\n",
        "\n",
        "contract_account.deposit(symbolic_in, symbolic_appr, symbolic_out)\n",
        "\n",
        "contract_account.balanceIn()\n",
        "contract_account.balanceOut()\n",
        "\n",
        "for state in m.ready_states:\n",
        "  print(state)\n",
        "\n",
        "print(f'States info can be found in {m.workspace}')\n"
      ]
    },
    {
      "cell_type": "markdown",
      "metadata": {
        "id": "uo0tBCvWcqJ7"
      },
      "source": [
        "To construct a property, we have to process the result returned by the `balanceIn()` and `balanceOut()` functions. The (serialized) data returned by a transaction *in a state* can be obtained using `state.platform.transactions[n].return_data` command, where `n` corresponds to the position of a transaction in a sequence of calls in the analysis script. For example, our script now has the following transactions and indices:\n",
        "\n",
        "\\[0] — m.solidity_create_contract\n",
        "\n",
        "\\[1] — contract_account.balanceIn()\n",
        "\n",
        "\\[2] — contract_account.balanceOut()\n",
        "\n",
        "\\[3] — contract_account.deposit(symbolic_in, symbolic_appr, symbolic_out)\n",
        "\n",
        "...and so on.\n",
        "\n",
        "As you may notice, the variable values we're interested in are returned by transactions 1, 2, 4, and 5. To be used in an expression, we need to deserialize the return data into an unsigned integer: this can be done by `ABI.deserialize(\"uint\", return_data)`.\n",
        "`ABI` needs to be imported prior to usage:\n",
        "`from manticore.ethereum import ABI`.\n",
        "\n",
        "After the balances before and after `deposit` are obtained, we can define a constraint that captures the vulnerable state criterion: the sum of balances *after* the function execution is *not smaller* than the sum *before*. This can be formulated using the *unsigned greater than* operator: `Operators.UGT(operand1, operand2)`.\n",
        "\n",
        "**Task 5**: Process the data returned by `balanceIn()` and `balanceOut()`  calls. Use the obtained values to build a condition for test case generation, pass this condition to `m.generate_testcase` as an `only_if` argument."
      ]
    },
    {
      "cell_type": "code",
      "execution_count": 14,
      "metadata": {
        "id": "TGrX5KwZcody"
      },
      "outputs": [],
      "source": [
        "from manticore.ethereum import ABI"
      ]
    },
    {
      "cell_type": "code",
      "execution_count": null,
      "metadata": {
        "id": "tjjpSim-gCm1"
      },
      "outputs": [],
      "source": [
        "m = ManticoreEVM()\n",
        "\n",
        "user_account = m.create_account(balance=100*10**18)\n",
        "contract_account = m.solidity_create_contract(source_code, owner=user_account)\n",
        "\n",
        "symbolic_in = m.make_symbolic_value()\n",
        "symbolic_out = m.make_symbolic_value()\n",
        "symbolic_appr = m.make_symbolic_value()\n",
        "\n",
        "# (1) Get values of balance_in and balance_out *before* deposit()\n",
        "\n",
        "contract_account.deposit(symbolic_in, symbolic_appr, symbolic_out)\n",
        "\n",
        "# (2) Get values of balance_in and balance_out *after* deposit()\n",
        "\n",
        "for state in m.ready_states:\n",
        "    # (3) Get balance_in and balance_out *before* deposit() and sum them up\n",
        "    # (4) Get balance_in and balance_out *after* deposit() and sum them up\n",
        "\n",
        "    condition = # (5) define a condition that detects a vulnerable state\n",
        "    \n",
        "    # (6) pass the condition as only_if=... parameter in generate_testcase\n",
        "    if m.generate_testcase(state, name=\"BugFound\"):\n",
        "        print(f'Bug found, results are in {m.workspace}')"
      ]
    },
    {
      "cell_type": "code",
      "execution_count": 15,
      "metadata": {
        "colab": {
          "base_uri": "https://localhost:8080/"
        },
        "id": "FAmW49RSkywg",
        "outputId": "de5379cb-3fd5-40c7-c46b-2aa55ac3c4ac"
      },
      "outputs": [
        {
          "name": "stdout",
          "output_type": "stream",
          "text": [
            "2022-06-17 12:37:00,977: [6702] m.c.plugin:\u001b[33mWARNING:\u001b[0m Caught will_solve in state None, but failed to capture its initialization\n",
            "Bug found, results are in /content/mcore_j7rcn9rr\n",
            "Bug found, results are in /content/mcore_j7rcn9rr\n"
          ]
        }
      ],
      "source": [
        "#@title Task 5 Solution\n",
        "\n",
        "m = ManticoreEVM()\n",
        "\n",
        "user_account = m.create_account(balance=100*10**18)\n",
        "contract_account = m.solidity_create_contract(source_code, owner=user_account)\n",
        "\n",
        "symbolic_in = m.make_symbolic_value()\n",
        "symbolic_out = m.make_symbolic_value()\n",
        "symbolic_appr = m.make_symbolic_value()\n",
        "\n",
        "contract_account.balanceIn()\n",
        "contract_account.balanceOut()\n",
        "\n",
        "contract_account.deposit(symbolic_in, symbolic_appr, symbolic_out)\n",
        "\n",
        "contract_account.balanceIn()\n",
        "contract_account.balanceOut()\n",
        "\n",
        "for state in m.ready_states:\n",
        "    in_balance_before = state.platform.transactions[1].return_data\n",
        "    in_balance_before = ABI.deserialize(\"uint\", in_balance_before)\n",
        "\n",
        "    out_balance_before = state.platform.transactions[2].return_data\n",
        "    out_balance_before = ABI.deserialize(\"uint\", out_balance_before)\n",
        "\n",
        "    in_balance_after = state.platform.transactions[4].return_data\n",
        "    in_balance_after = ABI.deserialize(\"uint\", in_balance_after)\n",
        "\n",
        "    out_balance_after = state.platform.transactions[5].return_data\n",
        "    out_balance_after = ABI.deserialize(\"uint\", out_balance_after)\n",
        "\n",
        "    sum_before = in_balance_before + out_balance_before\n",
        "    sum_after = in_balance_after + out_balance_after\n",
        "\n",
        "    condition = Operators.UGT(sum_before, sum_after)\n",
        "\n",
        "    if m.generate_testcase(state, name=\"BugFound\", only_if=condition):\n",
        "        print(f'Bug found, results are in {m.workspace}')"
      ]
    },
    {
      "cell_type": "markdown",
      "metadata": {
        "id": "YDpO29aMcIoO"
      },
      "source": [
        "We can, however, notice that two test cases are generated. One of them is, again, is attributed to integer overflow that occurs when we sum `balance_in` and `balance_out` before (and after) the execution. Since these operations are not part of the analyzed smart contract, let's add an additional \"no-overflow\" constraint to the test case generation condition.\n",
        "Our final condition will consist of two parts: *the sum of balances decreased AND no overflow occured during the (balance_in + balance_out) operation*.\n",
        "To implement AND, use `Operators.AND`. In the absence of integer overflow, the following condition should hold: *the result of a sum is greater than or equal (`Operators.UGT`) to the first operand*.\n",
        "\n",
        "(Final) **Task 6** Integrate the no-overflow-on-a-sum constraint into a condition that is used to detect vulnerable state. Analyze the resulting test case, check if it matches the result of the manual analysis performed in the write-up."
      ]
    },
    {
      "cell_type": "code",
      "execution_count": null,
      "metadata": {
        "id": "nL65UbQ8n0yK"
      },
      "outputs": [],
      "source": [
        "m = ManticoreEVM()\n",
        "\n",
        "user_account = m.create_account(balance=100*10**18)\n",
        "contract_account = m.solidity_create_contract(source_code, owner=user_account)\n",
        "\n",
        "symbolic_in = m.make_symbolic_value()\n",
        "symbolic_out = m.make_symbolic_value()\n",
        "symbolic_appr = m.make_symbolic_value()\n",
        "\n",
        "# (1) Get values of balance_in and balance_out *before* deposit()\n",
        "\n",
        "contract_account.deposit(symbolic_in, symbolic_appr, symbolic_out)\n",
        "\n",
        "# (2) Get values of balance_in and balance_out *after* deposit()\n",
        "\n",
        "for state in m.ready_states:\n",
        "    # (3) Get balance_in and balance_out *before* deposit() and sum them up\n",
        "    # (4) Get balance_in and balance_out *after* deposit() and sum them up\n",
        "\n",
        "    # (5) Define a constraint that ensures that no overflow\n",
        "    #      occurs during balances-before sum-up \n",
        "    # (6) Define a constraint that ensures that no overflow\n",
        "    #      occurs during balances-after sum-up \n",
        "\n",
        "\n",
        "    condition = # (7) define a condition includes no-overflow\n",
        "                #   and property violation constraints\n",
        "    \n",
        "    # (8) pass the condition as only_if=... parameter in generate_testcase\n",
        "    if m.generate_testcase(state, name=\"BugFound\"):\n",
        "        print(f'Bug found, results are in {m.workspace}')\n"
      ]
    },
    {
      "cell_type": "code",
      "execution_count": 16,
      "metadata": {
        "colab": {
          "base_uri": "https://localhost:8080/"
        },
        "id": "_T9-VR4HmC8z",
        "outputId": "4a5a20e2-16e8-4ab0-c803-b474df053b48"
      },
      "outputs": [
        {
          "name": "stdout",
          "output_type": "stream",
          "text": [
            "2022-06-17 12:38:39,371: [6702] m.c.plugin:\u001b[33mWARNING:\u001b[0m Caught will_solve in state None, but failed to capture its initialization\n",
            "Bug found, results are in /content/mcore_lx0x9szd\n"
          ]
        }
      ],
      "source": [
        "#@title Task 6 Solution\n",
        "\n",
        "m = ManticoreEVM()\n",
        "\n",
        "user_account = m.create_account(balance=100*10**18)\n",
        "contract_account = m.solidity_create_contract(source_code, owner=user_account)\n",
        "\n",
        "symbolic_in = m.make_symbolic_value()\n",
        "symbolic_out = m.make_symbolic_value()\n",
        "symbolic_appr = m.make_symbolic_value()\n",
        "\n",
        "contract_account.balanceIn()\n",
        "contract_account.balanceOut()\n",
        "\n",
        "contract_account.deposit(symbolic_in, symbolic_appr, symbolic_out)\n",
        "\n",
        "contract_account.balanceIn()\n",
        "contract_account.balanceOut()\n",
        "\n",
        "for state in m.ready_states:\n",
        "    in_balance_before = state.platform.transactions[1].return_data\n",
        "    in_balance_before = ABI.deserialize(\"uint\", in_balance_before)\n",
        "\n",
        "    out_balance_before = state.platform.transactions[2].return_data\n",
        "    out_balance_before = ABI.deserialize(\"uint\", out_balance_before)\n",
        "\n",
        "    in_balance_after = state.platform.transactions[4].return_data\n",
        "    in_balance_after = ABI.deserialize(\"uint\", in_balance_after)\n",
        "\n",
        "    out_balance_after = state.platform.transactions[5].return_data\n",
        "    out_balance_after = ABI.deserialize(\"uint\", out_balance_after)\n",
        "\n",
        "    sum_before = in_balance_before + out_balance_before\n",
        "    sum_after = in_balance_after + out_balance_after\n",
        "    \n",
        "    no_before_overflow = Operators.UGE(sum_before, in_balance_before)\n",
        "    no_after_overflow = Operators.UGE(sum_after, in_balance_after)\n",
        "    no_sum_overflow = Operators.AND(no_before_overflow, no_after_overflow)\n",
        "\n",
        "    condition = Operators.AND(Operators.UGT(sum_before, sum_after),\n",
        "                                no_sum_overflow)\n",
        "\n",
        "    if m.generate_testcase(state, name=\"BugFound\", only_if=condition):\n",
        "        print(f'Bug found, results are in {m.workspace}')"
      ]
    }
  ],
  "metadata": {
    "colab": {
      "collapsed_sections": [],
      "name": "Course 2:  Symbolic Execution — Example 1.ipynb",
      "provenance": []
    },
    "kernelspec": {
      "display_name": "Python 3",
      "name": "python3"
    },
    "language_info": {
      "name": "python"
    }
  },
  "nbformat": 4,
  "nbformat_minor": 0
}
